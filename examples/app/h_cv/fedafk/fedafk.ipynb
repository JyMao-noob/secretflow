{
 "cells": [
  {
   "cell_type": "markdown",
   "id": "9428c626",
   "metadata": {
    "collapsed": false
   },
   "source": [
    "该Notebook实现了论文 [Federated Learning with Personalization Layers](https://arxiv.org/abs/1912.00818) 中的数据异质性划分方法，并基于 FedPer 策略完成个性化联邦实验。"
   ]
  },
  {
   "metadata": {
    "ExecuteTime": {
     "end_time": "2024-10-12T05:18:24.480759Z",
     "start_time": "2024-10-12T05:18:24.465997Z"
    }
   },
   "cell_type": "code",
   "source": [
    "%load_ext autoreload\n",
    "%autoreload 2"
   ],
   "id": "c70e8ad0e86d426f",
   "outputs": [],
   "execution_count": 1
  },
  {
   "cell_type": "code",
   "id": "b7153d18-f074-478b-bcc1-5d3fa7c449fe",
   "metadata": {
    "ExecuteTime": {
     "end_time": "2024-10-12T05:18:31.104515Z",
     "start_time": "2024-10-12T05:18:27.066818Z"
    }
   },
   "source": [
    "import secretflow as sf\n",
    "\n",
    "# Check the version of your SecretFlow\n",
    "print(\"The version of SecretFlow: {}\".format(sf.__version__))\n",
    "\n",
    "# In case you have a running secretflow runtime already.\n",
    "sf.shutdown()\n",
    "\n",
    "sf.init([\"alice\", \"bob\", \"charlie\"], address=\"local\")\n",
    "alice, bob, charlie = sf.PYU(\"alice\"), sf.PYU(\"bob\"), sf.PYU(\"charlie\")"
   ],
   "outputs": [
    {
     "name": "stdout",
     "output_type": "stream",
     "text": [
      "The version of SecretFlow: 1.9.0.dev$$DATE$$\n"
     ]
    },
    {
     "name": "stderr",
     "output_type": "stream",
     "text": [
      "/opt/miniconda3/envs/deepl_env/lib/python3.10/subprocess.py:1796: RuntimeWarning: os.fork() was called. os.fork() is incompatible with multithreaded code, and JAX is multithreaded, so this will likely lead to a deadlock.\n",
      "  self.pid = _posixsubprocess.fork_exec(\n",
      "2024-10-12 13:18:30,506\tINFO worker.py:1724 -- Started a local Ray instance.\n"
     ]
    }
   ],
   "execution_count": 2
  },
  {
   "cell_type": "code",
   "id": "11ca2ac5-9bcc-4b78-ab93-113690096100",
   "metadata": {
    "ExecuteTime": {
     "end_time": "2024-10-12T05:18:35.789294Z",
     "start_time": "2024-10-12T05:18:32.235659Z"
    }
   },
   "source": [
    "from secretflow.ml.nn.core.torch import (\n",
    "    BaseModule,\n",
    "    TorchModel,\n",
    "    metric_wrapper,\n",
    "    optim_wrapper,\n",
    ")\n",
    "from secretflow.ml.nn import FLModel\n",
    "from torchmetrics import Accuracy, Precision\n",
    "from secretflow.security.aggregation import SecureAggregator\n",
    "from secretflow.utils.simulation.datasets import load_mnist\n",
    "from torch import nn, optim\n",
    "from torch.nn import functional as F"
   ],
   "outputs": [],
   "execution_count": 3
  },
  {
   "cell_type": "code",
   "id": "64b86331-eeef-481c-bae7-1feef94ba861",
   "metadata": {
    "ExecuteTime": {
     "end_time": "2024-10-12T05:18:38.074723Z",
     "start_time": "2024-10-12T05:18:38.039116Z"
    }
   },
   "source": [
    "class SimpleCNN(BaseModule):\n",
    "    def __init__(self):\n",
    "        super(SimpleCNN, self).__init__()\n",
    "        self.conv1 = nn.Conv2d(3, 16, kernel_size=3, stride=1, padding=1)\n",
    "        self.conv2 = nn.Conv2d(16, 32, kernel_size=3, stride=1, padding=1)\n",
    "        self.fc = nn.Linear(32 * 8 * 8, 10)\n",
    "\n",
    "    def forward(self, x):\n",
    "        x = F.relu(self.conv1(x))\n",
    "        x = F.max_pool2d(x, 2, 2)\n",
    "        x = F.relu(self.conv2(x))\n",
    "        x = F.max_pool2d(x, 2, 2)\n",
    "        x = x.view(-1, 32 * 8 * 8)\n",
    "        x = self.fc(x)\n",
    "        return x"
   ],
   "outputs": [],
   "execution_count": 4
  },
  {
   "cell_type": "markdown",
   "id": "c085a680-41cd-4961-82c8-a658fb12eeb7",
   "metadata": {},
   "source": [
    "为了实现论文中数据异质性的划分方法，依据secretflow/utils/simulation/datasets.py中加载数据集的方法写load_cifar10数据集加载方法，其中num_classes_per_client是每个客户端的随机数据集类别数，论文中取[4,8,10], 类别越少每个客户端数据集差异越明显, 每个客户端数据总量相同，如果某一类图像不够允许重复采样。"
   ]
  },
  {
   "cell_type": "code",
   "id": "0d166b09-5f18-4d64-ac07-4e283e149dda",
   "metadata": {
    "ExecuteTime": {
     "end_time": "2024-10-12T05:18:50.212173Z",
     "start_time": "2024-10-12T05:18:49.921369Z"
    }
   },
   "source": [
    "from typing import Dict, List, Tuple, Union\n",
    "import numpy as np\n",
    "from secretflow.data.ndarray import FedNdarray, PartitionWay\n",
    "from secretflow.device.device.pyu import PYU\n",
    "from torchvision.datasets import CIFAR10\n",
    "from torchvision import transforms\n",
    "from torch.utils.data import DataLoader\n",
    "\n",
    "\n",
    "def load_cifar10(\n",
    "    parts: Union[List[PYU], Dict[PYU, Union[float, Tuple]]],\n",
    "    batch_size: int = 1,\n",
    "    is_torch: bool = True,\n",
    "    num_classes_per_client=4,\n",
    ") -> Tuple[Tuple[FedNdarray, FedNdarray], Tuple[FedNdarray, FedNdarray]]:\n",
    "    \"\"\"Load CIFAR-10 dataset to federated ndarrays.\n",
    "\n",
    "    Args:\n",
    "        parts: the data partitions.\n",
    "        batch_size: Batch size for the DataLoader.\n",
    "        is_torch: optional, return torch tensors if True. Default to True.\n",
    "        num_classes_per_client: the random classes number of per client.\n",
    "\n",
    "    Returns:\n",
    "        A tuple consists of two tuples, (x_train, y_train) and (x_test, y_test).\n",
    "    \"\"\"\n",
    "    transform = transforms.Compose(\n",
    "        [transforms.ToTensor(), transforms.Normalize((0.5, 0.5, 0.5), (0.5, 0.5, 0.5))]\n",
    "    )\n",
    "\n",
    "    # Load CIFAR-10 training and testing sets\n",
    "    trainset = CIFAR10(root=\"../fedper/data\", train=True, download=True, transform=transform)\n",
    "    testset = CIFAR10(root=\"../fedper/data\", train=False, download=True, transform=transform)\n",
    "\n",
    "    # Using DataLoader for Batch Processing\n",
    "    trainloader = DataLoader(trainset, batch_size=batch_size, shuffle=True)\n",
    "    testloader = DataLoader(testset, batch_size=batch_size, shuffle=False)\n",
    "\n",
    "    # Convert DataLoader to a format that SecretFlow can handle\n",
    "    train_data, train_labels = _convert_to_fedndarray(\n",
    "        trainloader, parts, is_torch, num_classes_per_client\n",
    "    )\n",
    "    test_data, test_labels = _convert_to_fedndarray(\n",
    "        testloader, parts, is_torch, num_classes_per_client\n",
    "    )\n",
    "\n",
    "    return ((train_data, train_labels), (test_data, test_labels))\n",
    "\n",
    "\n",
    "def create_cifar10_ndarray(\n",
    "    data, labels, parts, is_torch=False, num_classes_per_client=4\n",
    "):\n",
    "    assert len(data) == len(labels), \"Data and labels must have the same length\"\n",
    "    class_indices = {i: np.where(labels == i)[0] for i in range(10)}\n",
    "\n",
    "    # Class assigned to each PYU\n",
    "    pyu_classes = {}\n",
    "    total_samples = len(data)\n",
    "    for idx, pyu in enumerate(parts.keys()):\n",
    "        np.random.seed(idx)\n",
    "        pyu_classes[pyu] = np.random.choice(10, num_classes_per_client, replace=False)\n",
    "\n",
    "    # Assign data and labels to each PYU\n",
    "    pyu_data = {}\n",
    "    pyu_labels = {}\n",
    "    for pyu, proportion in parts.items():\n",
    "        pyu_sample_size = int(\n",
    "            total_samples * proportion\n",
    "        )  # Calculate the sample size for each PYU\n",
    "        # Sample data from selected classes for each PYU\n",
    "        indices = np.concatenate(\n",
    "            [\n",
    "                np.random.choice(\n",
    "                    class_indices[cls],\n",
    "                    size=pyu_sample_size // num_classes_per_client,\n",
    "                    replace=True,\n",
    "                )\n",
    "                for cls in pyu_classes[pyu]\n",
    "            ]\n",
    "        )\n",
    "        np.random.shuffle(indices)\n",
    "        pyu_data[pyu] = data[indices]\n",
    "        pyu_labels[pyu] = labels[indices]\n",
    "        # Print the amount of data and random classes for each PYU\n",
    "        print(\n",
    "            f\"the sample size of {pyu} is {len(pyu_data[pyu])}, random classes are {pyu_classes[pyu]}.\"\n",
    "        )\n",
    "        # print(pyu_labels[pyu][0].dtype)\n",
    "\n",
    "    # Convert data and labels to FedNdarray\n",
    "    data_fedndarray = FedNdarray(\n",
    "        partitions={pyu: pyu(lambda arr: arr)(pyu_data[pyu]) for pyu in parts.keys()},\n",
    "        partition_way=PartitionWay.HORIZONTAL,\n",
    "    )\n",
    "\n",
    "    labels_fedndarray = FedNdarray(\n",
    "        partitions={pyu: pyu(lambda arr: arr)(pyu_labels[pyu]) for pyu in parts.keys()},\n",
    "        partition_way=PartitionWay.HORIZONTAL,\n",
    "    )\n",
    "\n",
    "    return data_fedndarray, labels_fedndarray\n",
    "\n",
    "\n",
    "def _convert_to_fedndarray(dataloader, parts, is_torch, num_classes_per_client):\n",
    "    data_list = []\n",
    "    label_list = []\n",
    "    for data, label in dataloader:\n",
    "        if is_torch:\n",
    "            data = data.numpy()\n",
    "            label = label.numpy()\n",
    "        data_list.append(data)\n",
    "        label_list.append(label)\n",
    "\n",
    "    return create_cifar10_ndarray(\n",
    "        np.concatenate(data_list),\n",
    "        np.concatenate(label_list),\n",
    "        parts=parts,\n",
    "        is_torch=is_torch,\n",
    "        num_classes_per_client=num_classes_per_client,\n",
    "    )"
   ],
   "outputs": [],
   "execution_count": 5
  },
  {
   "cell_type": "markdown",
   "id": "767ce881-fa39-46bc-95ab-7a3758927ae8",
   "metadata": {},
   "source": [
    "这里使用两个客户端做演示，每个客户端数据量为10%，即5000训练集和1000验证集，客户端图像类别数为4。"
   ]
  },
  {
   "cell_type": "code",
   "id": "679f4f01-e599-49e3-bd71-0abe81a7d11e",
   "metadata": {
    "ExecuteTime": {
     "end_time": "2024-10-12T05:19:33.324266Z",
     "start_time": "2024-10-12T05:19:27.112107Z"
    }
   },
   "source": [
    "(train_data, train_label), (test_data, test_label) = load_cifar10(\n",
    "    parts={alice: 0.1, bob: 0.1},\n",
    "    is_torch=True,\n",
    "    num_classes_per_client=4,\n",
    ")\n",
    "\n",
    "loss_fn = nn.CrossEntropyLoss\n",
    "optim_fn = optim_wrapper(optim.SGD, lr=0.01)\n",
    "model_def = TorchModel(\n",
    "    model_fn=SimpleCNN,\n",
    "    loss_fn=loss_fn,\n",
    "    optim_fn=optim_fn,\n",
    "    metrics=[\n",
    "        metric_wrapper(Accuracy, task=\"multiclass\", num_classes=10, average=\"micro\"),\n",
    "        metric_wrapper(Precision, task=\"multiclass\", num_classes=10, average=\"micro\"),\n",
    "    ],\n",
    ")"
   ],
   "outputs": [
    {
     "name": "stdout",
     "output_type": "stream",
     "text": [
      "Files already downloaded and verified\n",
      "Files already downloaded and verified\n",
      "the sample size of alice is 5000, random classes are [2 8 4 9].\n",
      "the sample size of bob is 5000, random classes are [2 9 6 4].\n",
      "the sample size of alice is 1000, random classes are [2 8 4 9].\n",
      "the sample size of bob is 1000, random classes are [2 9 6 4].\n"
     ]
    }
   ],
   "execution_count": 6
  },
  {
   "cell_type": "markdown",
   "id": "1c03c187-e98c-4d86-a5f0-59712ffeb513",
   "metadata": {},
   "source": [
    "先打印出模型结构来确认客户端个性层数量Kp，注意Kp和模型的层数不同，模型参数列表中倒数Kp层是个性层。默认Kp为2指定的是全连接层的weight和bias，即下方打印的fc.weight和fc.bias。"
   ]
  },
  {
   "cell_type": "code",
   "id": "34e6ee4b-10b8-4472-a8f8-8c20b2a2be20",
   "metadata": {
    "ExecuteTime": {
     "end_time": "2024-10-12T05:19:35.763074Z",
     "start_time": "2024-10-12T05:19:35.724863Z"
    }
   },
   "source": [
    "net = SimpleCNN()\n",
    "for name, param in net.named_parameters():\n",
    "    print(name, param.shape)"
   ],
   "outputs": [
    {
     "name": "stdout",
     "output_type": "stream",
     "text": [
      "conv1.weight torch.Size([16, 3, 3, 3])\n",
      "conv1.bias torch.Size([16])\n",
      "conv2.weight torch.Size([32, 16, 3, 3])\n",
      "conv2.bias torch.Size([32])\n",
      "fc.weight torch.Size([10, 2048])\n",
      "fc.bias torch.Size([10])\n"
     ]
    }
   ],
   "execution_count": 7
  },
  {
   "cell_type": "markdown",
   "id": "355305f9-e61d-4d11-98af-0fa99cf72422",
   "metadata": {},
   "source": [
    "要使用FedPer策略，指定strategy='fed_per'，超参数Kp指定客户端个性化层的数量。"
   ]
  },
  {
   "cell_type": "code",
   "id": "84c39adf-d10d-48e4-8558-f84b77706a9a",
   "metadata": {
    "ExecuteTime": {
     "end_time": "2024-10-12T05:19:40.860327Z",
     "start_time": "2024-10-12T05:19:39.366648Z"
    }
   },
   "source": [
    "device_list = [alice, bob]\n",
    "server = charlie\n",
    "aggregator = SecureAggregator(server, [alice, bob])\n",
    "\n",
    "# spcify params\n",
    "fl_model = FLModel(\n",
    "    server=server,\n",
    "    device_list=device_list,\n",
    "    model=model_def,\n",
    "    aggregator=aggregator,\n",
    "    strategy=\"fed_afk\",  # fl strategy\n",
    "    # strategy='fed_avg_w',\n",
    "    backend=\"torch\",\n",
    "    mu=0.5,\n",
    "    lamb=0.3,\n",
    ")"
   ],
   "outputs": [
    {
     "name": "stderr",
     "output_type": "stream",
     "text": [
      "INFO:root:Create proxy actor <class 'secretflow.device.proxy.Actor_Masker'> with party alice.\n",
      "INFO:root:Create proxy actor <class 'secretflow.device.proxy.Actor_Masker'> with party bob.\n",
      "INFO:root:Create proxy actor <class 'abc.ActorPYUFedAFK'> with party alice.\n",
      "INFO:root:Create proxy actor <class 'abc.ActorPYUFedAFK'> with party bob.\n"
     ]
    }
   ],
   "execution_count": 8
  },
  {
   "cell_type": "markdown",
   "id": "5c8ba884-f0e1-4875-b5ef-83e31ba75993",
   "metadata": {},
   "source": [
    "模型训练，这里以16个epoch为例，选用不同策略后需要重新训练并画出结果。"
   ]
  },
  {
   "cell_type": "code",
   "id": "c495f2ec-6494-45e2-a763-ad21f25c0af9",
   "metadata": {
    "ExecuteTime": {
     "end_time": "2024-10-12T02:18:15.950500Z",
     "start_time": "2024-10-12T02:16:59.089695Z"
    }
   },
   "source": [
    "history = fl_model.fit(\n",
    "    train_data,\n",
    "    train_label,\n",
    "    validation_data=(test_data, test_label),\n",
    "    epochs=16,\n",
    "    batch_size=128,\n",
    "    aggregate_freq=4,\n",
    ")"
   ],
   "outputs": [
    {
     "name": "stderr",
     "output_type": "stream",
     "text": [
      "INFO:root:FL Train Params: {'x': FedNdarray(partitions={PYURuntime(alice): <secretflow.device.device.pyu.PYUObject object at 0x3a945d120>, PYURuntime(bob): <secretflow.device.device.pyu.PYUObject object at 0x3a9ac1360>}, partition_way=<PartitionWay.HORIZONTAL: 'horizontal'>), 'y': FedNdarray(partitions={PYURuntime(alice): <secretflow.device.device.pyu.PYUObject object at 0x3a9ac74f0>, PYURuntime(bob): <secretflow.device.device.pyu.PYUObject object at 0x3a9ac7850>}, partition_way=<PartitionWay.HORIZONTAL: 'horizontal'>), 'batch_size': 128, 'batch_sampling_rate': None, 'epochs': 16, 'verbose': 1, 'callbacks': None, 'validation_data': (FedNdarray(partitions={PYURuntime(alice): <secretflow.device.device.pyu.PYUObject object at 0x3a9ac07f0>, PYURuntime(bob): <secretflow.device.device.pyu.PYUObject object at 0x3a9ac0850>}, partition_way=<PartitionWay.HORIZONTAL: 'horizontal'>), FedNdarray(partitions={PYURuntime(alice): <secretflow.device.device.pyu.PYUObject object at 0x3a9ac7430>, PYURuntime(bob): <secretflow.device.device.pyu.PYUObject object at 0x3a9ac5a20>}, partition_way=<PartitionWay.HORIZONTAL: 'horizontal'>)), 'shuffle': False, 'class_weight': None, 'sample_weight': None, 'validation_freq': 1, 'aggregate_freq': 4, 'label_decoder': None, 'max_batch_size': 20000, 'prefetch_buffer_size': None, 'sampler_method': 'batch', 'random_seed': 30186, 'dp_spent_step_freq': None, 'audit_log_dir': None, 'dataset_builder': None, 'wait_steps': 100, 'self': <secretflow.ml.nn.fl.fl_model.FLModel object at 0x3a9ac1720>}\n",
      "Train Processing: :   0%|          | 0/40 [00:00<?, ?it/s]"
     ]
    },
    {
     "name": "stdout",
     "output_type": "stream",
     "text": [
      "Epoch 1/16\n"
     ]
    },
    {
     "name": "stderr",
     "output_type": "stream",
     "text": [
      "\u001B[36m(ActorPYUFedAFK pid=93854)\u001B[0m /Users/jymao/Code/PythonProjects/secretflow/secretflow/ml/nn/fl/backend/torch/strategy/fed_afk.py:116: UserWarning: The use of `x.T` on tensors of dimension other than 2 to reverse their shape is deprecated and it will throw an error in a future release. Consider `x.mT` to transpose batches of matrices or `x.permute(*torch.arange(x.ndim - 1, -1, -1))` to reverse the dimensions of a tensor. (Triggered internally at /Users/runner/work/pytorch/pytorch/pytorch/aten/src/ATen/native/TensorShape.cpp:3618.)\n",
      "\u001B[36m(ActorPYUFedAFK pid=93854)\u001B[0m   grad_mu += dif.view(-1).T.dot(grad.view(-1))\n",
      "Train Processing: :  90%|█████████ | 36/40 [00:04<00:00,  8.81it/s]/Users/jymao/Code/PythonProjects/secretflow/secretflow/ml/nn/metrics.py:62: UserWarning: Please pay attention to local metrics, global only do naive aggregation.\n",
      "  warnings.warn(\n",
      "Train Processing: :  90%|█████████ | 36/40 [00:05<00:00,  6.97it/s, {'multiclassaccuracy': 0.4140625, 'multiclassprecision': 0.4140625, 'val_multiclassaccuracy': 0.3825, 'val_multiclassprecision': 0.3825}]\n",
      "Train Processing: :   0%|          | 0/40 [00:00<?, ?it/s]"
     ]
    },
    {
     "name": "stdout",
     "output_type": "stream",
     "text": [
      "Epoch 2/16\n",
      "\u001B[36m(ActorPYUFedAFK pid=93855)\u001B[0m {'train-loss': 1.097813367843628, 'train_multiclassaccuracy': tensor(0.4160), 'train_multiclassprecision': tensor(0.4160), 'val_eval_multiclassaccuracy': tensor(0.3970), 'val_eval_multiclassprecision': tensor(0.3970)}\n"
     ]
    },
    {
     "name": "stderr",
     "output_type": "stream",
     "text": [
      "Train Processing: :  90%|█████████ | 36/40 [00:05<00:00,  7.16it/s, {'multiclassaccuracy': 0.43945312, 'multiclassprecision': 0.43945312, 'val_multiclassaccuracy': 0.38950002, 'val_multiclassprecision': 0.38950002}]\n",
      "Train Processing: :   0%|          | 0/40 [00:00<?, ?it/s]"
     ]
    },
    {
     "name": "stdout",
     "output_type": "stream",
     "text": [
      "Epoch 3/16\n",
      "\u001B[36m(ActorPYUFedAFK pid=93855)\u001B[0m {'train-loss': 1.0358185768127441, 'train_multiclassaccuracy': tensor(0.4473), 'train_multiclassprecision': tensor(0.4473), 'val_eval_multiclassaccuracy': tensor(0.3930), 'val_eval_multiclassprecision': tensor(0.3930)}\u001B[32m [repeated 2x across cluster] (Ray deduplicates logs by default. Set RAY_DEDUP_LOGS=0 to disable log deduplication, or see https://docs.ray.io/en/master/ray-observability/ray-logging.html#log-deduplication for more options.)\u001B[0m\n"
     ]
    },
    {
     "name": "stderr",
     "output_type": "stream",
     "text": [
      "Train Processing: :  90%|█████████ | 36/40 [00:04<00:00,  7.60it/s, {'multiclassaccuracy': 0.45117188, 'multiclassprecision': 0.45117188, 'val_multiclassaccuracy': 0.3955, 'val_multiclassprecision': 0.3955}]\n",
      "Train Processing: :   0%|          | 0/40 [00:00<?, ?it/s]"
     ]
    },
    {
     "name": "stdout",
     "output_type": "stream",
     "text": [
      "Epoch 4/16\n"
     ]
    },
    {
     "name": "stderr",
     "output_type": "stream",
     "text": [
      "Train Processing: :  90%|█████████ | 36/40 [00:04<00:00,  7.66it/s, {'multiclassaccuracy': 0.4453125, 'multiclassprecision': 0.4453125, 'val_multiclassaccuracy': 0.3845, 'val_multiclassprecision': 0.3845}]\n",
      "Train Processing: :   0%|          | 0/40 [00:00<?, ?it/s]"
     ]
    },
    {
     "name": "stdout",
     "output_type": "stream",
     "text": [
      "Epoch 5/16\n",
      "\u001B[36m(ActorPYUFedAFK pid=93855)\u001B[0m {'train-loss': 0.9935223460197449, 'train_multiclassaccuracy': tensor(0.4570), 'train_multiclassprecision': tensor(0.4570), 'val_eval_multiclassaccuracy': tensor(0.4010), 'val_eval_multiclassprecision': tensor(0.4010)}\u001B[32m [repeated 4x across cluster]\u001B[0m\n"
     ]
    },
    {
     "name": "stderr",
     "output_type": "stream",
     "text": [
      "Train Processing: :  90%|█████████ | 36/40 [00:04<00:00,  7.67it/s, {'multiclassaccuracy': 0.4609375, 'multiclassprecision': 0.4609375, 'val_multiclassaccuracy': 0.3885, 'val_multiclassprecision': 0.3885}]\n",
      "Train Processing: :   0%|          | 0/40 [00:00<?, ?it/s]"
     ]
    },
    {
     "name": "stdout",
     "output_type": "stream",
     "text": [
      "Epoch 6/16\n"
     ]
    },
    {
     "name": "stderr",
     "output_type": "stream",
     "text": [
      "Train Processing: :  90%|█████████ | 36/40 [00:04<00:00,  7.64it/s, {'multiclassaccuracy': 0.46484375, 'multiclassprecision': 0.46484375, 'val_multiclassaccuracy': 0.394, 'val_multiclassprecision': 0.394}]\n",
      "Train Processing: :   0%|          | 0/40 [00:00<?, ?it/s]"
     ]
    },
    {
     "name": "stdout",
     "output_type": "stream",
     "text": [
      "Epoch 7/16\n",
      "\u001B[36m(ActorPYUFedAFK pid=93855)\u001B[0m {'train-loss': 0.9862169623374939, 'train_multiclassaccuracy': tensor(0.4531), 'train_multiclassprecision': tensor(0.4531), 'val_eval_multiclassaccuracy': tensor(0.4040), 'val_eval_multiclassprecision': tensor(0.4040)}\u001B[32m [repeated 4x across cluster]\u001B[0m\n"
     ]
    },
    {
     "name": "stderr",
     "output_type": "stream",
     "text": [
      "Train Processing: :  90%|█████████ | 36/40 [00:04<00:00,  7.72it/s, {'multiclassaccuracy': 0.47070312, 'multiclassprecision': 0.47070312, 'val_multiclassaccuracy': 0.3975, 'val_multiclassprecision': 0.3975}]\n",
      "Train Processing: :   0%|          | 0/40 [00:00<?, ?it/s]"
     ]
    },
    {
     "name": "stdout",
     "output_type": "stream",
     "text": [
      "Epoch 8/16\n"
     ]
    },
    {
     "name": "stderr",
     "output_type": "stream",
     "text": [
      "Train Processing: :  90%|█████████ | 36/40 [00:04<00:00,  7.62it/s, {'multiclassaccuracy': 0.48046875, 'multiclassprecision': 0.48046875, 'val_multiclassaccuracy': 0.4045, 'val_multiclassprecision': 0.4045}]\n",
      "Train Processing: :   0%|          | 0/40 [00:00<?, ?it/s]"
     ]
    },
    {
     "name": "stdout",
     "output_type": "stream",
     "text": [
      "Epoch 9/16\n",
      "\u001B[36m(ActorPYUFedAFK pid=93855)\u001B[0m {'train-loss': 0.9799450039863586, 'train_multiclassaccuracy': tensor(0.4629), 'train_multiclassprecision': tensor(0.4629), 'val_eval_multiclassaccuracy': tensor(0.4070), 'val_eval_multiclassprecision': tensor(0.4070)}\u001B[32m [repeated 4x across cluster]\u001B[0m\n"
     ]
    },
    {
     "name": "stderr",
     "output_type": "stream",
     "text": [
      "Train Processing: :  90%|█████████ | 36/40 [00:04<00:00,  7.67it/s, {'multiclassaccuracy': 0.46191406, 'multiclassprecision': 0.46191406, 'val_multiclassaccuracy': 0.403, 'val_multiclassprecision': 0.403}]\n",
      "Train Processing: :   0%|          | 0/40 [00:00<?, ?it/s]"
     ]
    },
    {
     "name": "stdout",
     "output_type": "stream",
     "text": [
      "Epoch 10/16\n"
     ]
    },
    {
     "name": "stderr",
     "output_type": "stream",
     "text": [
      "Train Processing: :  90%|█████████ | 36/40 [00:04<00:00,  7.59it/s, {'multiclassaccuracy': 0.47753906, 'multiclassprecision': 0.47753906, 'val_multiclassaccuracy': 0.413, 'val_multiclassprecision': 0.413}]\n",
      "Train Processing: :   0%|          | 0/40 [00:00<?, ?it/s]"
     ]
    },
    {
     "name": "stdout",
     "output_type": "stream",
     "text": [
      "Epoch 11/16\n",
      "\u001B[36m(ActorPYUFedAFK pid=93855)\u001B[0m {'train-loss': 0.9737431406974792, 'train_multiclassaccuracy': tensor(0.4609), 'train_multiclassprecision': tensor(0.4609), 'val_eval_multiclassaccuracy': tensor(0.4120), 'val_eval_multiclassprecision': tensor(0.4120)}\u001B[32m [repeated 4x across cluster]\u001B[0m\n"
     ]
    },
    {
     "name": "stderr",
     "output_type": "stream",
     "text": [
      "Train Processing: :  90%|█████████ | 36/40 [00:04<00:00,  7.69it/s, {'multiclassaccuracy': 0.4892578, 'multiclassprecision': 0.4892578, 'val_multiclassaccuracy': 0.4165, 'val_multiclassprecision': 0.4165}]\n",
      "Train Processing: :   0%|          | 0/40 [00:00<?, ?it/s]"
     ]
    },
    {
     "name": "stdout",
     "output_type": "stream",
     "text": [
      "Epoch 12/16\n"
     ]
    },
    {
     "name": "stderr",
     "output_type": "stream",
     "text": [
      "Train Processing: :  90%|█████████ | 36/40 [00:04<00:00,  7.59it/s, {'multiclassaccuracy': 0.49121094, 'multiclassprecision': 0.49121094, 'val_multiclassaccuracy': 0.4195, 'val_multiclassprecision': 0.4195}]\n",
      "Train Processing: :   0%|          | 0/40 [00:00<?, ?it/s]"
     ]
    },
    {
     "name": "stdout",
     "output_type": "stream",
     "text": [
      "Epoch 13/16\n",
      "\u001B[36m(ActorPYUFedAFK pid=93855)\u001B[0m {'train-loss': 0.9676898717880249, 'train_multiclassaccuracy': tensor(0.4707), 'train_multiclassprecision': tensor(0.4707), 'val_eval_multiclassaccuracy': tensor(0.4170), 'val_eval_multiclassprecision': tensor(0.4170)}\u001B[32m [repeated 4x across cluster]\u001B[0m\n"
     ]
    },
    {
     "name": "stderr",
     "output_type": "stream",
     "text": [
      "Train Processing: :  90%|█████████ | 36/40 [00:04<00:00,  7.62it/s, {'multiclassaccuracy': 0.5029297, 'multiclassprecision': 0.5029297, 'val_multiclassaccuracy': 0.43150002, 'val_multiclassprecision': 0.43150002}]\n",
      "Train Processing: :   0%|          | 0/40 [00:00<?, ?it/s]"
     ]
    },
    {
     "name": "stdout",
     "output_type": "stream",
     "text": [
      "Epoch 14/16\n"
     ]
    },
    {
     "name": "stderr",
     "output_type": "stream",
     "text": [
      "Train Processing: :  90%|█████████ | 36/40 [00:04<00:00,  7.72it/s, {'multiclassaccuracy': 0.5048828, 'multiclassprecision': 0.5048828, 'val_multiclassaccuracy': 0.4375, 'val_multiclassprecision': 0.4375}]\n",
      "Train Processing: :   0%|          | 0/40 [00:00<?, ?it/s]"
     ]
    },
    {
     "name": "stdout",
     "output_type": "stream",
     "text": [
      "Epoch 15/16\n",
      "\u001B[36m(ActorPYUFedAFK pid=93855)\u001B[0m {'train-loss': 0.9619891047477722, 'train_multiclassaccuracy': tensor(0.4805), 'train_multiclassprecision': tensor(0.4805), 'val_eval_multiclassaccuracy': tensor(0.4300), 'val_eval_multiclassprecision': tensor(0.4300)}\u001B[32m [repeated 4x across cluster]\u001B[0m\n"
     ]
    },
    {
     "name": "stderr",
     "output_type": "stream",
     "text": [
      "Train Processing: :  90%|█████████ | 36/40 [00:04<00:00,  7.67it/s, {'multiclassaccuracy': 0.5048828, 'multiclassprecision': 0.5048828, 'val_multiclassaccuracy': 0.439, 'val_multiclassprecision': 0.439}]\n",
      "Train Processing: :   0%|          | 0/40 [00:00<?, ?it/s]"
     ]
    },
    {
     "name": "stdout",
     "output_type": "stream",
     "text": [
      "Epoch 16/16\n"
     ]
    },
    {
     "name": "stderr",
     "output_type": "stream",
     "text": [
      "Train Processing: :  90%|█████████ | 36/40 [00:04<00:00,  7.61it/s, {'multiclassaccuracy': 0.51464844, 'multiclassprecision': 0.51464844, 'val_multiclassaccuracy': 0.43800002, 'val_multiclassprecision': 0.43800002}]\n"
     ]
    }
   ],
   "execution_count": 9
  },
  {
   "cell_type": "code",
   "id": "8677450e-87a7-4102-bdca-21311f9cba09",
   "metadata": {
    "ExecuteTime": {
     "end_time": "2024-10-12T05:19:47.543209Z",
     "start_time": "2024-10-12T05:19:47.497777Z"
    }
   },
   "source": [
    "print(history.keys())"
   ],
   "outputs": [
    {
     "ename": "NameError",
     "evalue": "name 'history' is not defined",
     "output_type": "error",
     "traceback": [
      "\u001B[0;31m---------------------------------------------------------------------------\u001B[0m",
      "\u001B[0;31mNameError\u001B[0m                                 Traceback (most recent call last)",
      "Cell \u001B[0;32mIn[9], line 1\u001B[0m\n\u001B[0;32m----> 1\u001B[0m \u001B[38;5;28mprint\u001B[39m(\u001B[43mhistory\u001B[49m\u001B[38;5;241m.\u001B[39mkeys())\n",
      "\u001B[0;31mNameError\u001B[0m: name 'history' is not defined"
     ]
    }
   ],
   "execution_count": 9
  },
  {
   "metadata": {
    "ExecuteTime": {
     "end_time": "2024-10-12T02:20:39.423918Z",
     "start_time": "2024-10-12T02:20:39.366422Z"
    }
   },
   "cell_type": "code",
   "source": "fl_model.save_model(\"a/model_fedafk.pth\",is_test=True)",
   "id": "8237c051229af6b9",
   "outputs": [],
   "execution_count": 11
  },
  {
   "metadata": {
    "ExecuteTime": {
     "end_time": "2024-10-12T02:21:43.746501Z",
     "start_time": "2024-10-12T02:21:39.050843Z"
    }
   },
   "cell_type": "code",
   "source": [
    "model_test = FLModel(\n",
    "    server=server,\n",
    "    device_list=device_list,\n",
    "    model=model_def,\n",
    "    aggregator=aggregator,\n",
    "    strategy=\"fed_afk\",  # fl strategy\n",
    "    # strategy='fed_avg_w',\n",
    "    backend=\"torch\",\n",
    "    mu=0.5,\n",
    "    lamb=0.3,\n",
    ")\n",
    "\n",
    "model_test.load_model(\"a/alice/model_fedafk.pth\")"
   ],
   "id": "b666591ff5c8d8f7",
   "outputs": [
    {
     "name": "stderr",
     "output_type": "stream",
     "text": [
      "INFO:root:Create proxy actor <class 'abc.ActorPYUFedAFK'> with party alice.\n",
      "INFO:root:Create proxy actor <class 'abc.ActorPYUFedAFK'> with party bob.\n",
      "INFO:root:load model success\n"
     ]
    }
   ],
   "execution_count": 13
  },
  {
   "metadata": {
    "ExecuteTime": {
     "end_time": "2024-10-12T02:21:51.703806Z",
     "start_time": "2024-10-12T02:21:51.656634Z"
    }
   },
   "cell_type": "code",
   "source": [
    "import torch\n",
    "checkpoint = torch.load(\"a/alice/model_fedafk.pth\")\n",
    "checkpoint2 = torch.load(\"a/bob/model_fedafk.pth\")\n",
    "load_net = SimpleCNN()\n",
    "load_net2 = SimpleCNN()\n",
    "\n",
    "# Load model state dict\n",
    "load_net.load_state_dict(checkpoint['model_state_dict'])\n",
    "load_net2.load_state_dict(checkpoint2['model_state_dict'])\n",
    "\n",
    "params1 = load_net.state_dict()\n",
    "params2 = load_net2.state_dict()\n",
    "\n",
    "same = True\n",
    "for param1, param2 in zip(load_net.parameters(), load_net2.parameters()):\n",
    "    if not torch.equal(param1, param2):\n",
    "        same = False\n",
    "        break\n",
    "\n",
    "if same:\n",
    "    print(\"两个模型的参数相同\")\n",
    "else:\n",
    "    print(\"两个模型的参数不相同\")"
   ],
   "id": "d53adf2f478e08ea",
   "outputs": [
    {
     "name": "stdout",
     "output_type": "stream",
     "text": [
      "两个模型的参数不相同\n"
     ]
    }
   ],
   "execution_count": 14
  },
  {
   "cell_type": "markdown",
   "id": "1c697c55-1ebf-44cd-b5cf-bf5ba031f723",
   "metadata": {},
   "source": [
    "FedAvg结果"
   ]
  },
  {
   "cell_type": "code",
   "id": "32a3d9fc-5eb3-479b-9f87-e4dac63ade12",
   "metadata": {
    "ExecuteTime": {
     "end_time": "2024-10-12T02:22:08.595670Z",
     "start_time": "2024-10-12T02:22:08.286369Z"
    }
   },
   "source": [
    "from matplotlib import pyplot as plt\n",
    "\n",
    "# Draw accuracy values for training & validation\n",
    "plt.plot(history[\"global_history\"][\"multiclassaccuracy\"])\n",
    "plt.plot(history[\"global_history\"][\"val_multiclassaccuracy\"])\n",
    "plt.plot(history[\"local_history\"][\"alice_train_multiclassaccuracy\"])\n",
    "plt.plot(history[\"local_history\"][\"bob_train_multiclassaccuracy\"])\n",
    "plt.plot(history[\"local_history\"][\"alice_val_eval_multiclassaccuracy\"])\n",
    "plt.plot(history[\"local_history\"][\"bob_val_eval_multiclassaccuracy\"])\n",
    "plt.title(\"FedAvg accuracy\")\n",
    "plt.ylabel(\"Accuracy\")\n",
    "plt.xlabel(\"Epoch\")\n",
    "plt.legend([\"Train\", \"Valid\", \"alice_T\", \"bob_T\", \"alice_V\", \"bob_V\"], loc=\"upper left\")\n",
    "plt.show()"
   ],
   "outputs": [
    {
     "data": {
      "text/plain": [
       "<Figure size 640x480 with 1 Axes>"
      ],
      "image/png": "[encoded data removed]"
     },
     "metadata": {},
     "output_type": "display_data"
    }
   ],
   "execution_count": 15
  },
  {
   "cell_type": "markdown",
   "id": "0ddc8d7e-87a8-44a2-bd43-8425cc6af308",
   "metadata": {},
   "source": [
    "FedPer结果"
   ]
  },
  {
   "cell_type": "code",
   "id": "46be3e38-9992-4f68-b51f-e74cdad0bed9",
   "metadata": {
    "ExecuteTime": {
     "end_time": "2024-10-12T02:23:12.386682Z",
     "start_time": "2024-10-12T02:23:12.140910Z"
    }
   },
   "source": [
    "from matplotlib import pyplot as plt\n",
    "\n",
    "# Draw accuracy values for training & validation\n",
    "plt.plot(history[\"global_history\"][\"multiclassaccuracy\"])\n",
    "plt.plot(history[\"global_history\"][\"val_multiclassaccuracy\"])\n",
    "plt.plot(history[\"local_history\"][\"alice_train_multiclassaccuracy\"])\n",
    "plt.plot(history[\"local_history\"][\"bob_train_multiclassaccuracy\"])\n",
    "plt.plot(history[\"local_history\"][\"alice_val_eval_multiclassaccuracy\"])\n",
    "plt.plot(history[\"local_history\"][\"bob_val_eval_multiclassaccuracy\"])\n",
    "plt.title(\"FedAFK accuracy\")\n",
    "plt.ylabel(\"Accuracy\")\n",
    "plt.xlabel(\"Epoch\")\n",
    "plt.legend([\"Train\", \"Valid\", \"alice_T\", \"bob_T\", \"alice_V\", \"bob_V\"], loc=\"upper left\")\n",
    "plt.show()"
   ],
   "outputs": [
    {
     "data": {
      "text/plain": [
       "<Figure size 640x480 with 1 Axes>"
      ],
      "image/png": "[encoded data removed]"
     },
     "metadata": {},
     "output_type": "display_data"
    }
   ],
   "execution_count": 16
  },
  {
   "cell_type": "markdown",
   "id": "ac3655d3-369a-4b2a-909d-badb5aa71262",
   "metadata": {},
   "source": [
    "使用10个客户端进行100个epoch的FedPer和FedAvg对比实验"
   ]
  },
  {
   "cell_type": "code",
   "id": "f0406971-ff23-4aa8-8268-0cf5d2f45dc0",
   "metadata": {
    "ExecuteTime": {
     "end_time": "2024-10-12T05:20:08.738431Z",
     "start_time": "2024-10-12T05:19:55.195600Z"
    }
   },
   "source": [
    "sf.shutdown()\n",
    "sf.init(\n",
    "    [\n",
    "        \"client1\",\n",
    "        \"client2\",\n",
    "        \"client3\",\n",
    "        \"client4\",\n",
    "        \"client5\",\n",
    "        \"client6\",\n",
    "        \"client7\",\n",
    "        \"client8\",\n",
    "        \"client9\",\n",
    "        \"client10\",\n",
    "        \"charlie\",\n",
    "    ],\n",
    "    address=\"local\",\n",
    ")\n",
    "(\n",
    "    client1,\n",
    "    client2,\n",
    "    client3,\n",
    "    client4,\n",
    "    client5,\n",
    "    client6,\n",
    "    client7,\n",
    "    client8,\n",
    "    client9,\n",
    "    client10,\n",
    "    charlie,\n",
    ") = (\n",
    "    sf.PYU(name)\n",
    "    for name in [\n",
    "        \"client1\",\n",
    "        \"client2\",\n",
    "        \"client3\",\n",
    "        \"client4\",\n",
    "        \"client5\",\n",
    "        \"client6\",\n",
    "        \"client7\",\n",
    "        \"client8\",\n",
    "        \"client9\",\n",
    "        \"client10\",\n",
    "        \"charlie\",\n",
    "    ]\n",
    ")\n",
    "\n",
    "(train_data, train_label), (test_data, test_label) = load_cifar10(\n",
    "    parts={\n",
    "        client1: 0.1,\n",
    "        client2: 0.1,\n",
    "        client3: 0.1,\n",
    "        client4: 0.1,\n",
    "        client5: 0.1,\n",
    "        client6: 0.1,\n",
    "        client7: 0.1,\n",
    "        client8: 0.1,\n",
    "        client9: 0.1,\n",
    "        client10: 0.1,\n",
    "    },\n",
    "    is_torch=True,\n",
    "    num_classes_per_client=4,\n",
    ")"
   ],
   "outputs": [
    {
     "name": "stderr",
     "output_type": "stream",
     "text": [
      "/opt/miniconda3/envs/deepl_env/lib/python3.10/subprocess.py:1796: RuntimeWarning: os.fork() was called. os.fork() is incompatible with multithreaded code, and JAX is multithreaded, so this will likely lead to a deadlock.\n",
      "  self.pid = _posixsubprocess.fork_exec(\n",
      "2024-10-12 13:19:58,497\tINFO worker.py:1724 -- Started a local Ray instance.\n"
     ]
    },
    {
     "name": "stdout",
     "output_type": "stream",
     "text": [
      "Files already downloaded and verified\n",
      "Files already downloaded and verified\n",
      "the sample size of client1 is 5000, random classes are [2 8 4 9].\n",
      "the sample size of client2 is 5000, random classes are [2 9 6 4].\n",
      "the sample size of client3 is 5000, random classes are [4 1 5 0].\n",
      "the sample size of client4 is 5000, random classes are [5 4 1 2].\n",
      "the sample size of client5 is 5000, random classes are [3 8 4 9].\n",
      "the sample size of client6 is 5000, random classes are [9 5 2 4].\n",
      "the sample size of client7 is 5000, random classes are [8 1 7 0].\n",
      "the sample size of client8 is 5000, random classes are [8 5 0 2].\n",
      "the sample size of client9 is 5000, random classes are [8 6 9 0].\n",
      "the sample size of client10 is 5000, random classes are [8 4 7 2].\n",
      "the sample size of client1 is 1000, random classes are [2 8 4 9].\n",
      "the sample size of client2 is 1000, random classes are [2 9 6 4].\n",
      "the sample size of client3 is 1000, random classes are [4 1 5 0].\n",
      "the sample size of client4 is 1000, random classes are [5 4 1 2].\n",
      "the sample size of client5 is 1000, random classes are [3 8 4 9].\n",
      "the sample size of client6 is 1000, random classes are [9 5 2 4].\n",
      "the sample size of client7 is 1000, random classes are [8 1 7 0].\n",
      "the sample size of client8 is 1000, random classes are [8 5 0 2].\n",
      "the sample size of client9 is 1000, random classes are [8 6 9 0].\n",
      "the sample size of client10 is 1000, random classes are [8 4 7 2].\n"
     ]
    }
   ],
   "execution_count": 10
  },
  {
   "cell_type": "markdown",
   "id": "ba18672b-6baf-4d87-a20c-43ca83fefae4",
   "metadata": {},
   "source": [
    "先使用FedPer进行训练"
   ]
  },
  {
   "cell_type": "code",
   "id": "b2d2d391-d9f1-4d24-8521-e8b3cb8b7b8e",
   "metadata": {
    "ExecuteTime": {
     "end_time": "2024-10-12T05:20:19.265591Z",
     "start_time": "2024-10-12T05:20:13.848969Z"
    }
   },
   "source": [
    "device_list = [\n",
    "    client1,\n",
    "    client2,\n",
    "    client3,\n",
    "    client4,\n",
    "    client5,\n",
    "    client6,\n",
    "    client7,\n",
    "    client8,\n",
    "    client9,\n",
    "    client10,\n",
    "]\n",
    "server = charlie\n",
    "aggregator = SecureAggregator(server, device_list)\n",
    "\n",
    "\n",
    "# spcify params\n",
    "fl_model = FLModel(\n",
    "    server=server,\n",
    "    device_list=device_list,\n",
    "    model=model_def,\n",
    "    aggregator=aggregator,\n",
    "    strategy=\"fed_afk\",  # fl strategy\n",
    "    backend=\"torch\",\n",
    "    mu=0.5,\n",
    "    lamb=0.3,\n",
    ")"
   ],
   "outputs": [
    {
     "name": "stderr",
     "output_type": "stream",
     "text": [
      "INFO:root:Create proxy actor <class 'secretflow.device.proxy.Actor_Masker'> with party client1.\n",
      "INFO:root:Create proxy actor <class 'secretflow.device.proxy.Actor_Masker'> with party client2.\n",
      "INFO:root:Create proxy actor <class 'secretflow.device.proxy.Actor_Masker'> with party client3.\n",
      "INFO:root:Create proxy actor <class 'secretflow.device.proxy.Actor_Masker'> with party client4.\n",
      "INFO:root:Create proxy actor <class 'secretflow.device.proxy.Actor_Masker'> with party client5.\n",
      "INFO:root:Create proxy actor <class 'secretflow.device.proxy.Actor_Masker'> with party client6.\n",
      "INFO:root:Create proxy actor <class 'secretflow.device.proxy.Actor_Masker'> with party client7.\n",
      "INFO:root:Create proxy actor <class 'secretflow.device.proxy.Actor_Masker'> with party client8.\n",
      "INFO:root:Create proxy actor <class 'secretflow.device.proxy.Actor_Masker'> with party client9.\n",
      "INFO:root:Create proxy actor <class 'secretflow.device.proxy.Actor_Masker'> with party client10.\n"
     ]
    },
    {
     "name": "stdout",
     "output_type": "stream",
     "text": [
      "\u001B[33m(raylet)\u001B[0m WARNING: 32 PYTHON worker processes have been started on node: 675f73c1a5ba4715ddc28c11b5e1aa1682816247f03f62e8796a52bc with address: 127.0.0.1. This could be a result of using a large number of actors, or due to tasks blocked in ray.get() calls (see https://github.com/ray-project/ray/issues/3644 for some discussion of workarounds).\n"
     ]
    },
    {
     "name": "stderr",
     "output_type": "stream",
     "text": [
      "INFO:root:Create proxy actor <class 'abc.ActorPYUFedAFK'> with party client1.\n",
      "INFO:root:Create proxy actor <class 'abc.ActorPYUFedAFK'> with party client2.\n",
      "INFO:root:Create proxy actor <class 'abc.ActorPYUFedAFK'> with party client3.\n",
      "INFO:root:Create proxy actor <class 'abc.ActorPYUFedAFK'> with party client4.\n",
      "INFO:root:Create proxy actor <class 'abc.ActorPYUFedAFK'> with party client5.\n",
      "INFO:root:Create proxy actor <class 'abc.ActorPYUFedAFK'> with party client6.\n",
      "INFO:root:Create proxy actor <class 'abc.ActorPYUFedAFK'> with party client7.\n",
      "INFO:root:Create proxy actor <class 'abc.ActorPYUFedAFK'> with party client8.\n",
      "INFO:root:Create proxy actor <class 'abc.ActorPYUFedAFK'> with party client9.\n",
      "INFO:root:Create proxy actor <class 'abc.ActorPYUFedAFK'> with party client10.\n"
     ]
    }
   ],
   "execution_count": 11
  },
  {
   "cell_type": "code",
   "id": "2f30792f-0506-45ec-927f-0761c56b4378",
   "metadata": {
    "ExecuteTime": {
     "end_time": "2024-10-12T05:35:52.017462Z",
     "start_time": "2024-10-12T05:20:37.044818Z"
    }
   },
   "source": [
    "history = fl_model.fit(\n",
    "    train_data,\n",
    "    train_label,\n",
    "    validation_data=(test_data, test_label),\n",
    "    epochs=20,\n",
    "    batch_size=128,\n",
    "    aggregate_freq=4,\n",
    ")"
   ],
   "outputs": [
    {
     "name": "stderr",
     "output_type": "stream",
     "text": [
      "INFO:root:FL Train Params: {'x': FedNdarray(partitions={PYURuntime(client1): <secretflow.device.device.pyu.PYUObject object at 0x15e4e18a0>, PYURuntime(client2): <secretflow.device.device.pyu.PYUObject object at 0x15e2ec250>, PYURuntime(client3): <secretflow.device.device.pyu.PYUObject object at 0x15e4ca860>, PYURuntime(client4): <secretflow.device.device.pyu.PYUObject object at 0x3ace838e0>, PYURuntime(client5): <secretflow.device.device.pyu.PYUObject object at 0x3aced19f0>, PYURuntime(client6): <secretflow.device.device.pyu.PYUObject object at 0x3aced0d30>, PYURuntime(client7): <secretflow.device.device.pyu.PYUObject object at 0x107d46f50>, PYURuntime(client8): <secretflow.device.device.pyu.PYUObject object at 0x3acec8580>, PYURuntime(client9): <secretflow.device.device.pyu.PYUObject object at 0x3acec9a20>, PYURuntime(client10): <secretflow.device.device.pyu.PYUObject object at 0x3acec83a0>}, partition_way=<PartitionWay.HORIZONTAL: 'horizontal'>), 'y': FedNdarray(partitions={PYURuntime(client1): <secretflow.device.device.pyu.PYUObject object at 0x15dfd32e0>, PYURuntime(client2): <secretflow.device.device.pyu.PYUObject object at 0x3aeeeee60>, PYURuntime(client3): <secretflow.device.device.pyu.PYUObject object at 0x3aeeef6d0>, PYURuntime(client4): <secretflow.device.device.pyu.PYUObject object at 0x3aeeec3d0>, PYURuntime(client5): <secretflow.device.device.pyu.PYUObject object at 0x3aeeefbb0>, PYURuntime(client6): <secretflow.device.device.pyu.PYUObject object at 0x3aeeef3a0>, PYURuntime(client7): <secretflow.device.device.pyu.PYUObject object at 0x3aeeecac0>, PYURuntime(client8): <secretflow.device.device.pyu.PYUObject object at 0x3aeeec490>, PYURuntime(client9): <secretflow.device.device.pyu.PYUObject object at 0x3aeeef340>, PYURuntime(client10): <secretflow.device.device.pyu.PYUObject object at 0x3ac9610f0>}, partition_way=<PartitionWay.HORIZONTAL: 'horizontal'>), 'batch_size': 128, 'batch_sampling_rate': None, 'epochs': 20, 'verbose': 1, 'callbacks': None, 'validation_data': (FedNdarray(partitions={PYURuntime(client1): <secretflow.device.device.pyu.PYUObject object at 0x15dfd3a90>, PYURuntime(client2): <secretflow.device.device.pyu.PYUObject object at 0x3aced2fe0>, PYURuntime(client3): <secretflow.device.device.pyu.PYUObject object at 0x3aced15a0>, PYURuntime(client4): <secretflow.device.device.pyu.PYUObject object at 0x3acec8e50>, PYURuntime(client5): <secretflow.device.device.pyu.PYUObject object at 0x3acec8190>, PYURuntime(client6): <secretflow.device.device.pyu.PYUObject object at 0x3acec9ae0>, PYURuntime(client7): <secretflow.device.device.pyu.PYUObject object at 0x3acec8af0>, PYURuntime(client8): <secretflow.device.device.pyu.PYUObject object at 0x3aeeeca60>, PYURuntime(client9): <secretflow.device.device.pyu.PYUObject object at 0x3aeeef130>, PYURuntime(client10): <secretflow.device.device.pyu.PYUObject object at 0x3aeeec1f0>}, partition_way=<PartitionWay.HORIZONTAL: 'horizontal'>), FedNdarray(partitions={PYURuntime(client1): <secretflow.device.device.pyu.PYUObject object at 0x3aeeeca30>, PYURuntime(client2): <secretflow.device.device.pyu.PYUObject object at 0x3aeeec460>, PYURuntime(client3): <secretflow.device.device.pyu.PYUObject object at 0x3aeeef310>, PYURuntime(client4): <secretflow.device.device.pyu.PYUObject object at 0x3aeeefe20>, PYURuntime(client5): <secretflow.device.device.pyu.PYUObject object at 0x3aeeecd90>, PYURuntime(client6): <secretflow.device.device.pyu.PYUObject object at 0x3aeef3340>, PYURuntime(client7): <secretflow.device.device.pyu.PYUObject object at 0x3aeef3550>, PYURuntime(client8): <secretflow.device.device.pyu.PYUObject object at 0x3aeef3d00>, PYURuntime(client9): <secretflow.device.device.pyu.PYUObject object at 0x3aef6d7e0>, PYURuntime(client10): <secretflow.device.device.pyu.PYUObject object at 0x3aef6c3d0>}, partition_way=<PartitionWay.HORIZONTAL: 'horizontal'>)), 'shuffle': False, 'class_weight': None, 'sample_weight': None, 'validation_freq': 1, 'aggregate_freq': 4, 'label_decoder': None, 'max_batch_size': 20000, 'prefetch_buffer_size': None, 'sampler_method': 'batch', 'random_seed': 84991, 'dp_spent_step_freq': None, 'audit_log_dir': None, 'dataset_builder': None, 'wait_steps': 100, 'self': <secretflow.ml.nn.fl.fl_model.FLModel object at 0x3aeeeffa0>}\n",
      "\u001B[36m(_run pid=85056)\u001B[0m W1012 13:20:40.543415 14851 external/com_github_brpc_brpc/src/bvar/detail/sampler.cpp:192] bvar is busy at sampling for 2 seconds!\n",
      "Train Processing: :   0%|          | 0/40 [00:00<?, ?it/s]"
     ]
    },
    {
     "name": "stdout",
     "output_type": "stream",
     "text": [
      "Epoch 1/20\n"
     ]
    },
    {
     "name": "stderr",
     "output_type": "stream",
     "text": [
      "\u001B[36m(ActorPYUFedAFK pid=87766)\u001B[0m /Users/jymao/Code/PythonProjects/secretflow/secretflow/ml/nn/fl/backend/torch/strategy/fed_afk.py:116: UserWarning: The use of `x.T` on tensors of dimension other than 2 to reverse their shape is deprecated and it will throw an error in a future release. Consider `x.mT` to transpose batches of matrices or `x.permute(*torch.arange(x.ndim - 1, -1, -1))` to reverse the dimensions of a tensor. (Triggered internally at /Users/runner/work/pytorch/pytorch/pytorch/aten/src/ATen/native/TensorShape.cpp:3618.)\n",
      "\u001B[36m(ActorPYUFedAFK pid=87766)\u001B[0m   grad_mu += dif.view(-1).T.dot(grad.view(-1))\n",
      "Train Processing: :  90%|█████████ | 36/40 [00:18<00:01,  2.46it/s]/Users/jymao/Code/PythonProjects/secretflow/secretflow/ml/nn/metrics.py:62: UserWarning: Please pay attention to local metrics, global only do naive aggregation.\n",
      "  warnings.warn(\n",
      "Train Processing: :  90%|█████████ | 36/40 [00:18<00:02,  1.90it/s, {'multiclassaccuracy': 0.36035156, 'multiclassprecision': 0.36035156, 'val_multiclassaccuracy': 0.35579997, 'val_multiclassprecision': 0.35579997}]\n",
      "Train Processing: :   0%|          | 0/40 [00:00<?, ?it/s]"
     ]
    },
    {
     "name": "stdout",
     "output_type": "stream",
     "text": [
      "Epoch 2/20\n",
      "\u001B[36m(ActorPYUFedAFK pid=87766)\u001B[0m {'train-loss': 1.0031191110610962, 'train_multiclassaccuracy': tensor(0.4102), 'train_multiclassprecision': tensor(0.4102), 'val_eval_multiclassaccuracy': tensor(0.3820), 'val_eval_multiclassprecision': tensor(0.3820)}\n"
     ]
    },
    {
     "name": "stderr",
     "output_type": "stream",
     "text": [
      "Train Processing: :  20%|██        | 8/40 [00:13<00:51,  1.62s/it]\u001B[36m(Actor_Masker pid=86999)\u001B[0m W1012 13:21:19.341501 14595 external/com_github_brpc_brpc/src/bvar/detail/sampler.cpp:192] bvar is busy at sampling for 2 seconds!\u001B[32m [repeated 2x across cluster] (Ray deduplicates logs by default. Set RAY_DEDUP_LOGS=0 to disable log deduplication, or see https://docs.ray.io/en/master/ray-observability/ray-logging.html#log-deduplication for more options.)\u001B[0m\n",
      "\u001B[36m(ActorPYUFedAFK pid=88364)\u001B[0m /Users/jymao/Code/PythonProjects/secretflow/secretflow/ml/nn/fl/backend/torch/strategy/fed_afk.py:116: UserWarning: The use of `x.T` on tensors of dimension other than 2 to reverse their shape is deprecated and it will throw an error in a future release. Consider `x.mT` to transpose batches of matrices or `x.permute(*torch.arange(x.ndim - 1, -1, -1))` to reverse the dimensions of a tensor. (Triggered internally at /Users/runner/work/pytorch/pytorch/pytorch/aten/src/ATen/native/TensorShape.cpp:3618.)\u001B[32m [repeated 9x across cluster]\u001B[0m\n",
      "\u001B[36m(ActorPYUFedAFK pid=88364)\u001B[0m   grad_mu += dif.view(-1).T.dot(grad.view(-1))\u001B[32m [repeated 9x across cluster]\u001B[0m\n",
      "\u001B[36m(Actor_Masker pid=86844)\u001B[0m W1012 13:21:24.637252 11779 external/com_github_brpc_brpc/src/bvar/detail/sampler.cpp:192] bvar is busy at sampling for 2 seconds!\u001B[32m [repeated 5x across cluster]\u001B[0m\n",
      "\u001B[36m(_run pid=85062)\u001B[0m W1012 13:21:29.969978 12547 external/com_github_brpc_brpc/src/bvar/detail/sampler.cpp:192] bvar is busy at sampling for 2 seconds!\u001B[32m [repeated 10x across cluster]\u001B[0m\n",
      "Train Processing: :  30%|███       | 12/40 [00:33<01:28,  3.15s/it]\u001B[36m(_run pid=85056)\u001B[0m W1012 13:21:34.684562 15107 external/com_github_brpc_brpc/src/bvar/detail/sampler.cpp:192] bvar is busy at sampling for 2 seconds!\u001B[32m [repeated 25x across cluster]\u001B[0m\n",
      "\u001B[36m(Actor_Masker pid=87001)\u001B[0m W1012 13:21:40.241331 14339 external/com_github_brpc_brpc/src/bvar/detail/sampler.cpp:192] bvar is busy at sampling for 2 seconds!\u001B[32m [repeated 22x across cluster]\u001B[0m\n",
      "Train Processing: :  40%|████      | 16/40 [00:43<01:10,  2.96s/it]\u001B[36m(Actor_Masker pid=86999)\u001B[0m W1012 13:21:45.814570 14595 external/com_github_brpc_brpc/src/bvar/detail/sampler.cpp:192] bvar is busy at sampling for 2 seconds!\u001B[32m [repeated 2x across cluster]\u001B[0m\n",
      "\u001B[36m(Actor_Masker pid=86844)\u001B[0m W1012 13:21:50.977982 11779 external/com_github_brpc_brpc/src/bvar/detail/sampler.cpp:192] bvar is busy at sampling for 2 seconds!\u001B[32m [repeated 4x across cluster]\u001B[0m\n",
      "Train Processing: :  50%|█████     | 20/40 [00:50<00:49,  2.49s/it]\u001B[36m(_run pid=85059)\u001B[0m W1012 13:21:56.677464 14851 external/com_github_brpc_brpc/src/bvar/detail/sampler.cpp:192] bvar is busy at sampling for 2 seconds!\u001B[32m [repeated 60x across cluster]\u001B[0m\n",
      "Train Processing: :  60%|██████    | 24/40 [00:56<00:34,  2.15s/it]\u001B[36m(_run pid=85060)\u001B[0m W1012 13:22:01.768375 12291 external/com_github_brpc_brpc/src/bvar/detail/sampler.cpp:192] bvar is busy at sampling for 2 seconds!\u001B[32m [repeated 32x across cluster]\u001B[0m\n",
      "Train Processing: :  80%|████████  | 32/40 [01:04<00:12,  1.53s/it]\u001B[36m(Actor_Masker pid=86862)\u001B[0m W1012 13:22:08.492015 12035 external/com_github_brpc_brpc/src/bvar/detail/sampler.cpp:192] bvar is busy at sampling for 2 seconds!\u001B[32m [repeated 21x across cluster]\u001B[0m\n",
      "Train Processing: :  90%|█████████ | 36/40 [01:13<00:08,  2.04s/it, {'multiclassaccuracy': 0.38007814, 'multiclassprecision': 0.38007814, 'val_multiclassaccuracy': 0.375, 'val_multiclassprecision': 0.375}]\n"
     ]
    },
    {
     "name": "stdout",
     "output_type": "stream",
     "text": [
      "\u001B[36m(ActorPYUFedAFK pid=87766)\u001B[0m {'train-loss': 0.9730318188667297, 'train_multiclassaccuracy': tensor(0.4258), 'train_multiclassprecision': tensor(0.4258), 'val_eval_multiclassaccuracy': tensor(0.3950), 'val_eval_multiclassprecision': tensor(0.3950)}\u001B[32m [repeated 10x across cluster]\u001B[0m\n"
     ]
    },
    {
     "name": "stderr",
     "output_type": "stream",
     "text": [
      "Train Processing: :   0%|          | 0/40 [00:00<?, ?it/s]"
     ]
    },
    {
     "name": "stdout",
     "output_type": "stream",
     "text": [
      "Epoch 3/20\n"
     ]
    },
    {
     "name": "stderr",
     "output_type": "stream",
     "text": [
      "Train Processing: :   0%|          | 0/40 [00:02<?, ?it/s]\u001B[36m(_run pid=85059)\u001B[0m W1012 13:22:23.472693 11779 external/com_github_brpc_brpc/src/bvar/detail/sampler.cpp:192] bvar is busy at sampling for 2 seconds!\u001B[32m [repeated 18x across cluster]\u001B[0m\n",
      "Train Processing: :  90%|█████████ | 36/40 [00:28<00:02,  1.57it/s]\u001B[36m(ActorPYUFedAFK pid=88364)\u001B[0m W1012 13:22:46.224571 13059 external/com_github_brpc_brpc/src/bvar/detail/sampler.cpp:192] bvar is busy at sampling for 2 seconds!\n",
      "Train Processing: :  90%|█████████ | 36/40 [00:32<00:03,  1.11it/s, {'multiclassaccuracy': 0.40253907, 'multiclassprecision': 0.40253907, 'val_multiclassaccuracy': 0.38590002, 'val_multiclassprecision': 0.38590002}]\n",
      "Train Processing: :   0%|          | 0/40 [00:00<?, ?it/s]"
     ]
    },
    {
     "name": "stdout",
     "output_type": "stream",
     "text": [
      "Epoch 4/20\n",
      "\u001B[36m(ActorPYUFedAFK pid=87766)\u001B[0m {'train-loss': 0.9639081954956055, 'train_multiclassaccuracy': tensor(0.4531), 'train_multiclassprecision': tensor(0.4531), 'val_eval_multiclassaccuracy': tensor(0.4060), 'val_eval_multiclassprecision': tensor(0.4060)}\u001B[32m [repeated 10x across cluster]\u001B[0m\n"
     ]
    },
    {
     "name": "stderr",
     "output_type": "stream",
     "text": [
      "Train Processing: :  10%|█         | 4/40 [00:04<00:23,  1.56it/s]\u001B[36m(_run pid=85062)\u001B[0m W1012 13:22:56.757721 12291 external/com_github_brpc_brpc/src/bvar/detail/sampler.cpp:192] bvar is busy at sampling for 2 seconds!\n",
      "Train Processing: :  90%|█████████ | 36/40 [00:34<00:03,  1.04it/s, {'multiclassaccuracy': 0.41679686, 'multiclassprecision': 0.41679686, 'val_multiclassaccuracy': 0.3787, 'val_multiclassprecision': 0.3787}]\n"
     ]
    },
    {
     "name": "stdout",
     "output_type": "stream",
     "text": [
      "\u001B[36m(ActorPYUFedAFK pid=87766)\u001B[0m {'train-loss': 0.9584200978279114, 'train_multiclassaccuracy': tensor(0.4688), 'train_multiclassprecision': tensor(0.4688), 'val_eval_multiclassaccuracy': tensor(0.4090), 'val_eval_multiclassprecision': tensor(0.4090)}\u001B[32m [repeated 10x across cluster]\u001B[0m\n"
     ]
    },
    {
     "name": "stderr",
     "output_type": "stream",
     "text": [
      "Train Processing: :   0%|          | 0/40 [00:00<?, ?it/s]"
     ]
    },
    {
     "name": "stdout",
     "output_type": "stream",
     "text": [
      "Epoch 5/20\n"
     ]
    },
    {
     "name": "stderr",
     "output_type": "stream",
     "text": [
      "Train Processing: :  50%|█████     | 20/40 [00:20<00:16,  1.20it/s]\u001B[36m(_run pid=85055)\u001B[0m W1012 13:23:43.387155 15363 external/com_github_brpc_brpc/src/bvar/detail/sampler.cpp:192] bvar is busy at sampling for 2 seconds!\u001B[32m [repeated 3x across cluster]\u001B[0m\n",
      "Train Processing: :  70%|███████   | 28/40 [00:28<00:10,  1.15it/s]\u001B[36m(ActorPYUFedAFK pid=87723)\u001B[0m W1012 13:23:52.667927 15363 external/com_github_brpc_brpc/src/bvar/detail/sampler.cpp:192] bvar is busy at sampling for 2 seconds!\n",
      "\u001B[36m(_run pid=85057)\u001B[0m W1012 13:23:52.867148 15619 external/com_github_brpc_brpc/src/bvar/detail/sampler.cpp:192] bvar is busy at sampling for 2 seconds!\n",
      "Train Processing: :  90%|█████████ | 36/40 [00:38<00:04,  1.17s/it]\u001B[36m(ActorPYUFedAFK pid=87723)\u001B[0m W1012 13:24:04.751222 15107 external/com_github_brpc_brpc/src/bvar/detail/sampler.cpp:192] bvar is busy at sampling for 2 seconds!\u001B[32m [repeated 9x across cluster]\u001B[0m\n",
      "Train Processing: :  90%|█████████ | 36/40 [00:44<00:04,  1.24s/it, {'multiclassaccuracy': 0.4234375, 'multiclassprecision': 0.4234375, 'val_multiclassaccuracy': 0.38859996, 'val_multiclassprecision': 0.38859996}]\n",
      "Train Processing: :   0%|          | 0/40 [00:00<?, ?it/s]"
     ]
    },
    {
     "name": "stdout",
     "output_type": "stream",
     "text": [
      "Epoch 6/20\n",
      "\u001B[36m(ActorPYUFedAFK pid=87766)\u001B[0m {'train-loss': 0.954230546951294, 'train_multiclassaccuracy': tensor(0.4863), 'train_multiclassprecision': tensor(0.4863), 'val_eval_multiclassaccuracy': tensor(0.4120), 'val_eval_multiclassprecision': tensor(0.4120)}\u001B[32m [repeated 10x across cluster]\u001B[0m\n"
     ]
    },
    {
     "name": "stderr",
     "output_type": "stream",
     "text": [
      "Train Processing: :   0%|          | 0/40 [00:03<?, ?it/s]\u001B[36m(_run pid=85062)\u001B[0m W1012 13:24:14.896795 12291 external/com_github_brpc_brpc/src/bvar/detail/sampler.cpp:192] bvar is busy at sampling for 2 seconds!\u001B[32m [repeated 5x across cluster]\u001B[0m\n",
      "Train Processing: :  30%|███       | 12/40 [00:17<00:29,  1.06s/it]\u001B[36m(_run pid=85057)\u001B[0m W1012 13:24:26.339434 15619 external/com_github_brpc_brpc/src/bvar/detail/sampler.cpp:192] bvar is busy at sampling for 2 seconds!\u001B[32m [repeated 5x across cluster]\u001B[0m\n",
      "Train Processing: :  50%|█████     | 20/40 [00:23<00:17,  1.16it/s]\u001B[36m(_run pid=85056)\u001B[0m W1012 13:24:32.038287 15107 external/com_github_brpc_brpc/src/bvar/detail/sampler.cpp:192] bvar is busy at sampling for 2 seconds!\n",
      "\u001B[36m(_run pid=85097)\u001B[0m W1012 13:24:32.079443 15363 external/com_github_brpc_brpc/src/bvar/detail/sampler.cpp:192] bvar is busy at sampling for 2 seconds!\n",
      "Train Processing: :  70%|███████   | 28/40 [00:30<00:10,  1.18it/s]\u001B[36m(ActorPYUFedAFK pid=87920)\u001B[0m W1012 13:24:37.713202 12291 external/com_github_brpc_brpc/src/bvar/detail/sampler.cpp:192] bvar is busy at sampling for 2 seconds!\u001B[32m [repeated 12x across cluster]\u001B[0m\n",
      "Train Processing: :  80%|████████  | 32/40 [00:33<00:06,  1.20it/s]\u001B[36m(_run pid=85063)\u001B[0m W1012 13:24:43.677945 12803 external/com_github_brpc_brpc/src/bvar/detail/sampler.cpp:192] bvar is busy at sampling for 2 seconds!\n",
      "Train Processing: :  90%|█████████ | 36/40 [00:37<00:03,  1.20it/s]\u001B[36m(ActorPYUFedAFK pid=88166)\u001B[0m W1012 13:24:47.820000 14851 external/com_github_brpc_brpc/src/bvar/detail/sampler.cpp:192] bvar is busy at sampling for 2 seconds!\n",
      "Train Processing: :  90%|█████████ | 36/40 [00:41<00:04,  1.16s/it, {'multiclassaccuracy': 0.43320313, 'multiclassprecision': 0.43320313, 'val_multiclassaccuracy': 0.397, 'val_multiclassprecision': 0.397}]\n"
     ]
    },
    {
     "name": "stdout",
     "output_type": "stream",
     "text": [
      "\u001B[36m(ActorPYUFedAFK pid=87723)\u001B[0m {'train-loss': 0.9562586545944214, 'train_multiclassaccuracy': tensor(0.4473), 'train_multiclassprecision': tensor(0.4473), 'val_eval_multiclassaccuracy': tensor(0.4290), 'val_eval_multiclassprecision': tensor(0.4290)}\u001B[32m [repeated 10x across cluster]\u001B[0m\n"
     ]
    },
    {
     "name": "stderr",
     "output_type": "stream",
     "text": [
      "Train Processing: :   0%|          | 0/40 [00:00<?, ?it/s]"
     ]
    },
    {
     "name": "stdout",
     "output_type": "stream",
     "text": [
      "Epoch 7/20\n"
     ]
    },
    {
     "name": "stderr",
     "output_type": "stream",
     "text": [
      "Train Processing: :   0%|          | 0/40 [00:03<?, ?it/s]\u001B[36m(_run pid=85057)\u001B[0m W1012 13:24:56.968174 15619 external/com_github_brpc_brpc/src/bvar/detail/sampler.cpp:192] bvar is busy at sampling for 2 seconds!\u001B[32m [repeated 7x across cluster]\u001B[0m\n",
      "Train Processing: :  60%|██████    | 24/40 [00:23<00:12,  1.30it/s]\u001B[36m(_run pid=85055)\u001B[0m W1012 13:25:13.832202 12291 external/com_github_brpc_brpc/src/bvar/detail/sampler.cpp:192] bvar is busy at sampling for 2 seconds!\u001B[32m [repeated 3x across cluster]\u001B[0m\n",
      "Train Processing: :  80%|████████  | 32/40 [00:29<00:06,  1.31it/s]\u001B[36m(_run pid=85055)\u001B[0m W1012 13:25:19.641781 15363 external/com_github_brpc_brpc/src/bvar/detail/sampler.cpp:192] bvar is busy at sampling for 2 seconds!\u001B[32m [repeated 2x across cluster]\u001B[0m\n",
      "Train Processing: :  90%|█████████ | 36/40 [00:37<00:04,  1.04s/it, {'multiclassaccuracy': 0.43945312, 'multiclassprecision': 0.43945312, 'val_multiclassaccuracy': 0.399, 'val_multiclassprecision': 0.399}]\n",
      "Train Processing: :   0%|          | 0/40 [00:00<?, ?it/s]"
     ]
    },
    {
     "name": "stdout",
     "output_type": "stream",
     "text": [
      "Epoch 8/20\n",
      "\u001B[36m(ActorPYUFedAFK pid=87766)\u001B[0m {'train-loss': 0.9477212429046631, 'train_multiclassaccuracy': tensor(0.4941), 'train_multiclassprecision': tensor(0.4941), 'val_eval_multiclassaccuracy': tensor(0.4180), 'val_eval_multiclassprecision': tensor(0.4180)}\u001B[32m [repeated 10x across cluster]\u001B[0m\n"
     ]
    },
    {
     "name": "stderr",
     "output_type": "stream",
     "text": [
      "Train Processing: :   0%|          | 0/40 [00:03<?, ?it/s]\u001B[36m(Actor_Masker pid=86844)\u001B[0m W1012 13:25:31.681424 11779 external/com_github_brpc_brpc/src/bvar/detail/sampler.cpp:192] bvar is busy at sampling for 2 seconds!\u001B[32m [repeated 13x across cluster]\u001B[0m\n",
      "Train Processing: :  20%|██        | 8/40 [00:12<00:34,  1.09s/it]\u001B[36m(Actor_Masker pid=86850)\u001B[0m W1012 13:25:41.033080 15363 external/com_github_brpc_brpc/src/bvar/detail/sampler.cpp:192] bvar is busy at sampling for 2 seconds!\u001B[32m [repeated 18x across cluster]\u001B[0m\n",
      "Train Processing: :  50%|█████     | 20/40 [00:23<00:18,  1.08it/s]\u001B[36m(_run pid=85120)\u001B[0m W1012 13:25:51.919173 12035 external/com_github_brpc_brpc/src/bvar/detail/sampler.cpp:192] bvar is busy at sampling for 2 seconds!\u001B[32m [repeated 13x across cluster]\u001B[0m\n",
      "Train Processing: :  80%|████████  | 32/40 [00:32<00:06,  1.21it/s]\u001B[36m(ActorPYUFedAFK pid=88166)\u001B[0m W1012 13:26:02.332721 14851 external/com_github_brpc_brpc/src/bvar/detail/sampler.cpp:192] bvar is busy at sampling for 2 seconds!\u001B[32m [repeated 29x across cluster]\u001B[0m\n",
      "Train Processing: :  90%|█████████ | 36/40 [00:40<00:04,  1.12s/it, {'multiclassaccuracy': 0.4486328, 'multiclassprecision': 0.4486328, 'val_multiclassaccuracy': 0.38489997, 'val_multiclassprecision': 0.38489997}]\n",
      "Train Processing: :   0%|          | 0/40 [00:00<?, ?it/s]"
     ]
    },
    {
     "name": "stdout",
     "output_type": "stream",
     "text": [
      "Epoch 9/20\n",
      "\u001B[36m(ActorPYUFedAFK pid=87766)\u001B[0m {'train-loss': 0.9450511932373047, 'train_multiclassaccuracy': tensor(0.4902), 'train_multiclassprecision': tensor(0.4902), 'val_eval_multiclassaccuracy': tensor(0.4180), 'val_eval_multiclassprecision': tensor(0.4180)}\u001B[32m [repeated 10x across cluster]\u001B[0m\n"
     ]
    },
    {
     "name": "stderr",
     "output_type": "stream",
     "text": [
      "Train Processing: :   0%|          | 0/40 [00:03<?, ?it/s]\u001B[36m(_run pid=85063)\u001B[0m W1012 13:26:12.409046 12803 external/com_github_brpc_brpc/src/bvar/detail/sampler.cpp:192] bvar is busy at sampling for 2 seconds!\u001B[32m [repeated 2x across cluster]\u001B[0m\n",
      "Train Processing: :  30%|███       | 12/40 [00:15<00:25,  1.09it/s]\u001B[36m(_run pid=85055)\u001B[0m W1012 13:26:22.699355 12291 external/com_github_brpc_brpc/src/bvar/detail/sampler.cpp:192] bvar is busy at sampling for 2 seconds!\u001B[32m [repeated 18x across cluster]\u001B[0m\n",
      "Train Processing: :  90%|█████████ | 36/40 [00:36<00:03,  1.20it/s]\u001B[36m(ActorPYUFedAFK pid=88039)\u001B[0m W1012 13:26:46.556894 12291 external/com_github_brpc_brpc/src/bvar/detail/sampler.cpp:192] bvar is busy at sampling for 2 seconds!\u001B[32m [repeated 12x across cluster]\u001B[0m\n",
      "Train Processing: :  90%|█████████ | 36/40 [00:40<00:04,  1.13s/it, {'multiclassaccuracy': 0.4441406, 'multiclassprecision': 0.4441406, 'val_multiclassaccuracy': 0.3965, 'val_multiclassprecision': 0.3965}]\n"
     ]
    },
    {
     "name": "stdout",
     "output_type": "stream",
     "text": [
      "\u001B[36m(ActorPYUFedAFK pid=87766)\u001B[0m {'train-loss': 0.9426572322845459, 'train_multiclassaccuracy': tensor(0.4941), 'train_multiclassprecision': tensor(0.4941), 'val_eval_multiclassaccuracy': tensor(0.4190), 'val_eval_multiclassprecision': tensor(0.4190)}\u001B[32m [repeated 10x across cluster]\u001B[0m\n"
     ]
    },
    {
     "name": "stderr",
     "output_type": "stream",
     "text": [
      "Train Processing: :   0%|          | 0/40 [00:00<?, ?it/s]"
     ]
    },
    {
     "name": "stdout",
     "output_type": "stream",
     "text": [
      "Epoch 10/20\n"
     ]
    },
    {
     "name": "stderr",
     "output_type": "stream",
     "text": [
      "Train Processing: :   0%|          | 0/40 [00:03<?, ?it/s]\u001B[36m(_run pid=85063)\u001B[0m W1012 13:26:54.073496 12547 external/com_github_brpc_brpc/src/bvar/detail/sampler.cpp:192] bvar is busy at sampling for 2 seconds!\n",
      "\u001B[36m(ActorPYUFedAFK pid=87920)\u001B[0m W1012 13:26:54.203944 15363 external/com_github_brpc_brpc/src/bvar/detail/sampler.cpp:192] bvar is busy at sampling for 2 seconds!\n",
      "Train Processing: :  30%|███       | 12/40 [00:17<00:30,  1.08s/it]\u001B[36m(Actor_Masker pid=86812)\u001B[0m W1012 13:27:07.065097 14851 external/com_github_brpc_brpc/src/bvar/detail/sampler.cpp:192] bvar is busy at sampling for 2 seconds!\u001B[32m [repeated 27x across cluster]\u001B[0m\n",
      "Train Processing: :  50%|█████     | 20/40 [00:24<00:19,  1.03it/s]\u001B[36m(Actor_Masker pid=86862)\u001B[0m W1012 13:27:13.196259 12035 external/com_github_brpc_brpc/src/bvar/detail/sampler.cpp:192] bvar is busy at sampling for 2 seconds!\u001B[32m [repeated 28x across cluster]\u001B[0m\n",
      "Train Processing: :  70%|███████   | 28/40 [00:31<00:10,  1.14it/s]\u001B[36m(ActorPYUFedAFK pid=88364)\u001B[0m W1012 13:27:22.793301 12803 external/com_github_brpc_brpc/src/bvar/detail/sampler.cpp:192] bvar is busy at sampling for 2 seconds!\u001B[32m [repeated 25x across cluster]\u001B[0m\n",
      "Train Processing: :  90%|█████████ | 36/40 [00:38<00:03,  1.13it/s]\u001B[36m(ActorPYUFedAFK pid=87723)\u001B[0m W1012 13:27:29.976857 15107 external/com_github_brpc_brpc/src/bvar/detail/sampler.cpp:192] bvar is busy at sampling for 2 seconds!\u001B[32m [repeated 18x across cluster]\u001B[0m\n",
      "Train Processing: :  90%|█████████ | 36/40 [00:42<00:04,  1.19s/it, {'multiclassaccuracy': 0.45878905, 'multiclassprecision': 0.45878905, 'val_multiclassaccuracy': 0.39790004, 'val_multiclassprecision': 0.39790004}]\n"
     ]
    },
    {
     "name": "stdout",
     "output_type": "stream",
     "text": [
      "\u001B[36m(ActorPYUFedAFK pid=87766)\u001B[0m {'train-loss': 0.9404754042625427, 'train_multiclassaccuracy': tensor(0.4941), 'train_multiclassprecision': tensor(0.4941), 'val_eval_multiclassaccuracy': tensor(0.4210), 'val_eval_multiclassprecision': tensor(0.4210)}\u001B[32m [repeated 10x across cluster]\u001B[0m\n"
     ]
    },
    {
     "name": "stderr",
     "output_type": "stream",
     "text": [
      "Train Processing: :   0%|          | 0/40 [00:00<?, ?it/s]"
     ]
    },
    {
     "name": "stdout",
     "output_type": "stream",
     "text": [
      "Epoch 11/20\n"
     ]
    },
    {
     "name": "stderr",
     "output_type": "stream",
     "text": [
      "Train Processing: :   0%|          | 0/40 [00:03<?, ?it/s]\u001B[36m(_run pid=85062)\u001B[0m W1012 13:27:40.083870 12291 external/com_github_brpc_brpc/src/bvar/detail/sampler.cpp:192] bvar is busy at sampling for 2 seconds!\n",
      "\u001B[36m(_run pid=85057)\u001B[0m W1012 13:27:40.397917 12547 external/com_github_brpc_brpc/src/bvar/detail/sampler.cpp:192] bvar is busy at sampling for 2 seconds!\n",
      "Train Processing: :  20%|██        | 8/40 [00:14<00:40,  1.27s/it]\u001B[36m(_run pid=85126)\u001B[0m W1012 13:27:48.934892 14595 external/com_github_brpc_brpc/src/bvar/detail/sampler.cpp:192] bvar is busy at sampling for 2 seconds!\u001B[32m [repeated 12x across cluster]\u001B[0m\n",
      "Train Processing: :  40%|████      | 16/40 [00:20<00:22,  1.05it/s]\u001B[36m(_run pid=85057)\u001B[0m W1012 13:27:54.917211 15619 external/com_github_brpc_brpc/src/bvar/detail/sampler.cpp:192] bvar is busy at sampling for 2 seconds!\u001B[32m [repeated 38x across cluster]\u001B[0m\n",
      "Train Processing: :  60%|██████    | 24/40 [00:26<00:13,  1.18it/s]\u001B[36m(_run pid=85059)\u001B[0m W1012 13:28:00.251889 11779 external/com_github_brpc_brpc/src/bvar/detail/sampler.cpp:192] bvar is busy at sampling for 2 seconds!\u001B[32m [repeated 35x across cluster]\u001B[0m\n",
      "Train Processing: :  80%|████████  | 32/40 [00:33<00:06,  1.19it/s]\u001B[36m(ActorPYUFedAFK pid=87867)\u001B[0m W1012 13:28:08.168134 12035 external/com_github_brpc_brpc/src/bvar/detail/sampler.cpp:192] bvar is busy at sampling for 2 seconds!\u001B[32m [repeated 4x across cluster]\u001B[0m\n",
      "Train Processing: :  90%|█████████ | 36/40 [00:41<00:04,  1.16s/it, {'multiclassaccuracy': 0.45957032, 'multiclassprecision': 0.45957032, 'val_multiclassaccuracy': 0.3895, 'val_multiclassprecision': 0.3895}]\n"
     ]
    },
    {
     "name": "stdout",
     "output_type": "stream",
     "text": [
      "\u001B[36m(ActorPYUFedAFK pid=87723)\u001B[0m {'train-loss': 1.0163720846176147, 'train_multiclassaccuracy': tensor(0.4707), 'train_multiclassprecision': tensor(0.4707), 'val_eval_multiclassaccuracy': tensor(0.3900), 'val_eval_multiclassprecision': tensor(0.3900)}\u001B[32m [repeated 10x across cluster]\u001B[0m\n",
      "\u001B[36m(ActorPYUFedAFK pid=87766)\u001B[0m \n"
     ]
    },
    {
     "name": "stderr",
     "output_type": "stream",
     "text": [
      "Train Processing: :   0%|          | 0/40 [00:00<?, ?it/s]"
     ]
    },
    {
     "name": "stdout",
     "output_type": "stream",
     "text": [
      "Epoch 12/20\n"
     ]
    },
    {
     "name": "stderr",
     "output_type": "stream",
     "text": [
      "Train Processing: :   0%|          | 0/40 [00:03<?, ?it/s]\u001B[36m(Actor_Masker pid=86862)\u001B[0m W1012 13:28:19.574536 15107 external/com_github_brpc_brpc/src/bvar/detail/sampler.cpp:192] bvar is busy at sampling for 2 seconds!\u001B[32m [repeated 3x across cluster]\u001B[0m\n",
      "Train Processing: :  50%|█████     | 20/40 [00:22<00:16,  1.19it/s]\u001B[36m(_run pid=85055)\u001B[0m W1012 13:28:38.588793 12291 external/com_github_brpc_brpc/src/bvar/detail/sampler.cpp:192] bvar is busy at sampling for 2 seconds!\u001B[32m [repeated 28x across cluster]\u001B[0m\n",
      "Train Processing: :  90%|█████████ | 36/40 [00:38<00:04,  1.01s/it]\u001B[36m(_run pid=85057)\u001B[0m W1012 13:28:55.537911 12547 external/com_github_brpc_brpc/src/bvar/detail/sampler.cpp:192] bvar is busy at sampling for 2 seconds!\u001B[32m [repeated 3x across cluster]\u001B[0m\n",
      "Train Processing: :  90%|█████████ | 36/40 [00:43<00:04,  1.22s/it, {'multiclassaccuracy': 0.46484375, 'multiclassprecision': 0.46484375, 'val_multiclassaccuracy': 0.3978, 'val_multiclassprecision': 0.3978}]\n",
      "Train Processing: :   0%|          | 0/40 [00:00<?, ?it/s]"
     ]
    },
    {
     "name": "stdout",
     "output_type": "stream",
     "text": [
      "Epoch 13/20\n",
      "\u001B[36m(ActorPYUFedAFK pid=87766)\u001B[0m {'train-loss': 0.9365932941436768, 'train_multiclassaccuracy': tensor(0.5039), 'train_multiclassprecision': tensor(0.5039), 'val_eval_multiclassaccuracy': tensor(0.4250), 'val_eval_multiclassprecision': tensor(0.4250)}\u001B[32m [repeated 10x across cluster]\u001B[0m\n",
      "\u001B[36m(ActorPYUFedAFK pid=87867)\u001B[0m \n"
     ]
    },
    {
     "name": "stderr",
     "output_type": "stream",
     "text": [
      "Train Processing: :   0%|          | 0/40 [00:03<?, ?it/s]\u001B[36m(_run pid=85057)\u001B[0m W1012 13:29:05.658053 15619 external/com_github_brpc_brpc/src/bvar/detail/sampler.cpp:192] bvar is busy at sampling for 2 seconds!\u001B[32m [repeated 14x across cluster]\u001B[0m\n",
      "\u001B[36m(_run pid=85058)\u001B[0m W1012 13:29:16.721889 15107 external/com_github_brpc_brpc/src/bvar/detail/sampler.cpp:192] bvar is busy at sampling for 2 seconds!\u001B[32m [repeated 62x across cluster]\u001B[0m\n",
      "Train Processing: :  10%|█         | 4/40 [00:21<02:48,  4.67s/it]\u001B[36m(Actor_Masker pid=86805)\u001B[0m W1012 13:29:22.408552 12035 external/com_github_brpc_brpc/src/bvar/detail/sampler.cpp:192] bvar is busy at sampling for 2 seconds!\u001B[32m [repeated 45x across cluster]\u001B[0m\n",
      "Train Processing: :  20%|██        | 8/40 [00:27<01:30,  2.81s/it]\u001B[36m(ActorPYUFedAFK pid=87920)\u001B[0m W1012 13:29:27.435419 12291 external/com_github_brpc_brpc/src/bvar/detail/sampler.cpp:192] bvar is busy at sampling for 2 seconds!\u001B[32m [repeated 32x across cluster]\u001B[0m\n",
      "Train Processing: :  30%|███       | 12/40 [00:33<00:59,  2.13s/it]\u001B[36m(_run pid=85120)\u001B[0m W1012 13:29:32.937107 15107 external/com_github_brpc_brpc/src/bvar/detail/sampler.cpp:192] bvar is busy at sampling for 2 seconds!\u001B[32m [repeated 39x across cluster]\u001B[0m\n",
      "Train Processing: :  40%|████      | 16/40 [00:37<00:39,  1.67s/it]\u001B[36m(_run pid=85130)\u001B[0m W1012 13:29:38.205498 12803 external/com_github_brpc_brpc/src/bvar/detail/sampler.cpp:192] bvar is busy at sampling for 2 seconds!\u001B[32m [repeated 31x across cluster]\u001B[0m\n",
      "Train Processing: :  80%|████████  | 32/40 [00:55<00:10,  1.27s/it]\u001B[36m(Actor_Masker pid=86812)\u001B[0m W1012 13:29:59.411478 14851 external/com_github_brpc_brpc/src/bvar/detail/sampler.cpp:192] bvar is busy at sampling for 2 seconds!\u001B[32m [repeated 13x across cluster]\u001B[0m\n",
      "Train Processing: :  90%|█████████ | 36/40 [01:02<00:05,  1.42s/it]\u001B[36m(Actor_Masker pid=86812)\u001B[0m W1012 13:30:04.026190 11779 external/com_github_brpc_brpc/src/bvar/detail/sampler.cpp:192] bvar is busy at sampling for 2 seconds!\n",
      "\u001B[36m(ActorPYUFedAFK pid=87723)\u001B[0m W1012 13:30:04.999305 15107 external/com_github_brpc_brpc/src/bvar/detail/sampler.cpp:192] bvar is busy at sampling for 2 seconds!\n",
      "Train Processing: :  90%|█████████ | 36/40 [01:11<00:07,  1.98s/it, {'multiclassaccuracy': 0.46855468, 'multiclassprecision': 0.46855468, 'val_multiclassaccuracy': 0.39850003, 'val_multiclassprecision': 0.39850003}]\n"
     ]
    },
    {
     "name": "stdout",
     "output_type": "stream",
     "text": [
      "\u001B[36m(ActorPYUFedAFK pid=87766)\u001B[0m {'train-loss': 0.9348368644714355, 'train_multiclassaccuracy': tensor(0.5020), 'train_multiclassprecision': tensor(0.5020), 'val_eval_multiclassaccuracy': tensor(0.4220), 'val_eval_multiclassprecision': tensor(0.4220)}\u001B[32m [repeated 10x across cluster]\u001B[0m\n"
     ]
    },
    {
     "name": "stderr",
     "output_type": "stream",
     "text": [
      "Train Processing: :   0%|          | 0/40 [00:00<?, ?it/s]"
     ]
    },
    {
     "name": "stdout",
     "output_type": "stream",
     "text": [
      "Epoch 14/20\n"
     ]
    },
    {
     "name": "stderr",
     "output_type": "stream",
     "text": [
      "\u001B[36m(Actor_Masker pid=86805)\u001B[0m W1012 13:30:13.347242 12035 external/com_github_brpc_brpc/src/bvar/detail/sampler.cpp:192] bvar is busy at sampling for 2 seconds!\u001B[32m [repeated 53x across cluster]\u001B[0m\n",
      "Train Processing: :  10%|█         | 4/40 [00:10<00:29,  1.23it/s]\u001B[36m(ActorPYUFedAFK pid=88364)\u001B[0m W1012 13:30:21.564481 12803 external/com_github_brpc_brpc/src/bvar/detail/sampler.cpp:192] bvar is busy at sampling for 2 seconds!\n",
      "Train Processing: :  20%|██        | 8/40 [00:13<00:24,  1.28it/s]\u001B[36m(_run pid=85055)\u001B[0m W1012 13:30:23.354407 12291 external/com_github_brpc_brpc/src/bvar/detail/sampler.cpp:192] bvar is busy at sampling for 2 seconds!\n",
      "Train Processing: :  30%|███       | 12/40 [00:16<00:21,  1.29it/s]\u001B[36m(Actor_Masker pid=86874)\u001B[0m W1012 13:30:29.263547 14851 external/com_github_brpc_brpc/src/bvar/detail/sampler.cpp:192] bvar is busy at sampling for 2 seconds!\u001B[32m [repeated 43x across cluster]\u001B[0m\n",
      "Train Processing: :  50%|█████     | 20/40 [00:22<00:15,  1.31it/s]\u001B[36m(ActorPYUFedAFK pid=88220)\u001B[0m W1012 13:30:34.366412 15363 external/com_github_brpc_brpc/src/bvar/detail/sampler.cpp:192] bvar is busy at sampling for 2 seconds!\u001B[32m [repeated 34x across cluster]\u001B[0m\n",
      "Train Processing: :  70%|███████   | 28/40 [00:28<00:08,  1.36it/s]\u001B[36m(_run pid=85130)\u001B[0m W1012 13:30:40.112141 12803 external/com_github_brpc_brpc/src/bvar/detail/sampler.cpp:192] bvar is busy at sampling for 2 seconds!\u001B[32m [repeated 29x across cluster]\u001B[0m\n",
      "Train Processing: :  90%|█████████ | 36/40 [00:35<00:03,  1.24it/s]\u001B[36m(_run pid=85062)\u001B[0m W1012 13:30:47.979429 12547 external/com_github_brpc_brpc/src/bvar/detail/sampler.cpp:192] bvar is busy at sampling for 2 seconds!\u001B[32m [repeated 40x across cluster]\u001B[0m\n",
      "Train Processing: :  90%|█████████ | 36/40 [00:40<00:04,  1.13s/it, {'multiclassaccuracy': 0.47285157, 'multiclassprecision': 0.47285157, 'val_multiclassaccuracy': 0.3993, 'val_multiclassprecision': 0.3993}]\n"
     ]
    },
    {
     "name": "stdout",
     "output_type": "stream",
     "text": [
      "\u001B[36m(ActorPYUFedAFK pid=87766)\u001B[0m {'train-loss': 0.9331640005111694, 'train_multiclassaccuracy': tensor(0.5000), 'train_multiclassprecision': tensor(0.5000), 'val_eval_multiclassaccuracy': tensor(0.4230), 'val_eval_multiclassprecision': tensor(0.4230)}\u001B[32m [repeated 10x across cluster]\u001B[0m\n"
     ]
    },
    {
     "name": "stderr",
     "output_type": "stream",
     "text": [
      "Train Processing: :   0%|          | 0/40 [00:00<?, ?it/s]"
     ]
    },
    {
     "name": "stdout",
     "output_type": "stream",
     "text": [
      "Epoch 15/20\n"
     ]
    },
    {
     "name": "stderr",
     "output_type": "stream",
     "text": [
      "Train Processing: :   0%|          | 0/40 [00:03<?, ?it/s]\u001B[36m(_run pid=85059)\u001B[0m W1012 13:30:55.105196 11779 external/com_github_brpc_brpc/src/bvar/detail/sampler.cpp:192] bvar is busy at sampling for 2 seconds!\u001B[32m [repeated 4x across cluster]\u001B[0m\n",
      "Train Processing: :  20%|██        | 8/40 [00:13<00:40,  1.26s/it]\u001B[36m(Actor_Masker pid=86812)\u001B[0m W1012 13:31:06.104891 14851 external/com_github_brpc_brpc/src/bvar/detail/sampler.cpp:192] bvar is busy at sampling for 2 seconds!\u001B[32m [repeated 23x across cluster]\u001B[0m\n",
      "Train Processing: :  40%|████      | 16/40 [00:19<00:21,  1.10it/s]\u001B[36m(_run pid=85057)\u001B[0m W1012 13:31:11.234183 12547 external/com_github_brpc_brpc/src/bvar/detail/sampler.cpp:192] bvar is busy at sampling for 2 seconds!\u001B[32m [repeated 14x across cluster]\u001B[0m\n",
      "Train Processing: :  60%|██████    | 24/40 [00:26<00:13,  1.17it/s]\u001B[36m(_run pid=85063)\u001B[0m W1012 13:31:17.833501 12803 external/com_github_brpc_brpc/src/bvar/detail/sampler.cpp:192] bvar is busy at sampling for 2 seconds!\u001B[32m [repeated 17x across cluster]\u001B[0m\n",
      "Train Processing: :  80%|████████  | 32/40 [00:32<00:06,  1.20it/s]\u001B[36m(_run pid=85055)\u001B[0m W1012 13:31:23.516392 15363 external/com_github_brpc_brpc/src/bvar/detail/sampler.cpp:192] bvar is busy at sampling for 2 seconds!\u001B[32m [repeated 35x across cluster]\u001B[0m\n",
      "Train Processing: :  90%|█████████ | 36/40 [00:37<00:03,  1.06it/s]\u001B[36m(_run pid=85097)\u001B[0m W1012 13:31:31.558372 15619 external/com_github_brpc_brpc/src/bvar/detail/sampler.cpp:192] bvar is busy at sampling for 2 seconds!\u001B[32m [repeated 26x across cluster]\u001B[0m\n",
      "Train Processing: :  90%|█████████ | 36/40 [00:43<00:04,  1.21s/it, {'multiclassaccuracy': 0.4732422, 'multiclassprecision': 0.4732422, 'val_multiclassaccuracy': 0.4012, 'val_multiclassprecision': 0.4012}]\n",
      "Train Processing: :   0%|          | 0/40 [00:00<?, ?it/s]"
     ]
    },
    {
     "name": "stdout",
     "output_type": "stream",
     "text": [
      "Epoch 16/20\n",
      "\u001B[36m(ActorPYUFedAFK pid=87766)\u001B[0m {'train-loss': 0.9315488338470459, 'train_multiclassaccuracy': tensor(0.5020), 'train_multiclassprecision': tensor(0.5020), 'val_eval_multiclassaccuracy': tensor(0.4220), 'val_eval_multiclassprecision': tensor(0.4220)}\u001B[32m [repeated 10x across cluster]\u001B[0m\n"
     ]
    },
    {
     "name": "stderr",
     "output_type": "stream",
     "text": [
      "\u001B[36m(Actor_Masker pid=86825)\u001B[0m W1012 13:31:40.632451 15107 external/com_github_brpc_brpc/src/bvar/detail/sampler.cpp:192] bvar is busy at sampling for 2 seconds!\u001B[32m [repeated 7x across cluster]\u001B[0m\n",
      "Train Processing: :   0%|          | 0/40 [00:09<?, ?it/s]\u001B[36m(ActorPYUFedAFK pid=87867)\u001B[0m W1012 13:31:48.296655 15107 external/com_github_brpc_brpc/src/bvar/detail/sampler.cpp:192] bvar is busy at sampling for 2 seconds!\u001B[32m [repeated 56x across cluster]\u001B[0m\n",
      "Train Processing: :  20%|██        | 8/40 [00:16<00:29,  1.08it/s]\u001B[36m(_run pid=85130)\u001B[0m W1012 13:31:53.327607 12547 external/com_github_brpc_brpc/src/bvar/detail/sampler.cpp:192] bvar is busy at sampling for 2 seconds!\u001B[32m [repeated 25x across cluster]\u001B[0m\n",
      "Train Processing: :  30%|███       | 12/40 [00:21<00:27,  1.01it/s]\u001B[36m(_run pid=85055)\u001B[0m W1012 13:32:00.048761 15363 external/com_github_brpc_brpc/src/bvar/detail/sampler.cpp:192] bvar is busy at sampling for 2 seconds!\u001B[32m [repeated 6x across cluster]\u001B[0m\n",
      "Train Processing: :  60%|██████    | 24/40 [00:31<00:14,  1.13it/s]\u001B[36m(ActorPYUFedAFK pid=88039)\u001B[0m W1012 13:32:07.382458 15363 external/com_github_brpc_brpc/src/bvar/detail/sampler.cpp:192] bvar is busy at sampling for 2 seconds!\n",
      "\u001B[36m(Actor_Masker pid=86844)\u001B[0m W1012 13:32:08.368213 11779 external/com_github_brpc_brpc/src/bvar/detail/sampler.cpp:192] bvar is busy at sampling for 2 seconds!\n",
      "Train Processing: :  70%|███████   | 28/40 [00:35<00:10,  1.11it/s]\u001B[36m(ActorPYUFedAFK pid=87920)\u001B[0m W1012 13:32:13.534554 15363 external/com_github_brpc_brpc/src/bvar/detail/sampler.cpp:192] bvar is busy at sampling for 2 seconds!\u001B[32m [repeated 32x across cluster]\u001B[0m\n",
      "Train Processing: :  80%|████████  | 32/40 [00:40<00:08,  1.02s/it]\u001B[36m(_run pid=85120)\u001B[0m W1012 13:32:20.269785 15107 external/com_github_brpc_brpc/src/bvar/detail/sampler.cpp:192] bvar is busy at sampling for 2 seconds!\u001B[32m [repeated 31x across cluster]\u001B[0m\n",
      "Train Processing: :  90%|█████████ | 36/40 [00:45<00:04,  1.10s/it]\u001B[36m(Actor_Masker pid=86844)\u001B[0m W1012 13:32:23.979749 11779 external/com_github_brpc_brpc/src/bvar/detail/sampler.cpp:192] bvar is busy at sampling for 2 seconds!\u001B[32m [repeated 9x across cluster]\u001B[0m\n",
      "Train Processing: :  90%|█████████ | 36/40 [00:52<00:05,  1.46s/it, {'multiclassaccuracy': 0.47636718, 'multiclassprecision': 0.47636718, 'val_multiclassaccuracy': 0.40509996, 'val_multiclassprecision': 0.40509996}]\n",
      "Train Processing: :   0%|          | 0/40 [00:00<?, ?it/s]"
     ]
    },
    {
     "name": "stdout",
     "output_type": "stream",
     "text": [
      "Epoch 17/20\n",
      "\u001B[36m(ActorPYUFedAFK pid=87766)\u001B[0m {'train-loss': 0.9299585223197937, 'train_multiclassaccuracy': tensor(0.5000), 'train_multiclassprecision': tensor(0.5000), 'val_eval_multiclassaccuracy': tensor(0.4280), 'val_eval_multiclassprecision': tensor(0.4280)}\u001B[32m [repeated 10x across cluster]\u001B[0m\n"
     ]
    },
    {
     "name": "stderr",
     "output_type": "stream",
     "text": [
      "\u001B[36m(Actor_Masker pid=86850)\u001B[0m W1012 13:32:33.776785 15363 external/com_github_brpc_brpc/src/bvar/detail/sampler.cpp:192] bvar is busy at sampling for 2 seconds!\u001B[32m [repeated 28x across cluster]\u001B[0m\n",
      "Train Processing: :  10%|█         | 4/40 [00:09<00:34,  1.03it/s]\u001B[36m(_run pid=85063)\u001B[0m W1012 13:32:42.595316 12803 external/com_github_brpc_brpc/src/bvar/detail/sampler.cpp:192] bvar is busy at sampling for 2 seconds!\u001B[32m [repeated 16x across cluster]\u001B[0m\n",
      "Train Processing: :  30%|███       | 12/40 [00:20<00:32,  1.18s/it]\u001B[36m(Actor_Masker pid=86874)\u001B[0m W1012 13:32:48.916572 14851 external/com_github_brpc_brpc/src/bvar/detail/sampler.cpp:192] bvar is busy at sampling for 2 seconds!\u001B[32m [repeated 22x across cluster]\u001B[0m\n",
      "Train Processing: :  40%|████      | 16/40 [00:24<00:26,  1.09s/it]\u001B[36m(ActorPYUFedAFK pid=87867)\u001B[0m W1012 13:32:56.209660 15107 external/com_github_brpc_brpc/src/bvar/detail/sampler.cpp:192] bvar is busy at sampling for 2 seconds!\u001B[32m [repeated 26x across cluster]\u001B[0m\n",
      "Train Processing: :  50%|█████     | 20/40 [00:28<00:22,  1.13s/it]\u001B[36m(Actor_Masker pid=86832)\u001B[0m W1012 13:33:01.193609 12547 external/com_github_brpc_brpc/src/bvar/detail/sampler.cpp:192] bvar is busy at sampling for 2 seconds!\u001B[32m [repeated 21x across cluster]\u001B[0m\n",
      "Train Processing: :  70%|███████   | 28/40 [00:36<00:12,  1.05s/it]\u001B[36m(_run pid=85057)\u001B[0m W1012 13:33:06.713271 15619 external/com_github_brpc_brpc/src/bvar/detail/sampler.cpp:192] bvar is busy at sampling for 2 seconds!\u001B[32m [repeated 21x across cluster]\u001B[0m\n",
      "Train Processing: :  80%|████████  | 32/40 [00:42<00:09,  1.15s/it]\u001B[36m(_run pid=85063)\u001B[0m W1012 13:33:12.025439 12547 external/com_github_brpc_brpc/src/bvar/detail/sampler.cpp:192] bvar is busy at sampling for 2 seconds!\u001B[32m [repeated 35x across cluster]\u001B[0m\n",
      "Train Processing: :  90%|█████████ | 36/40 [00:46<00:04,  1.15s/it]\u001B[36m(_run pid=85057)\u001B[0m W1012 13:33:19.445663 15619 external/com_github_brpc_brpc/src/bvar/detail/sampler.cpp:192] bvar is busy at sampling for 2 seconds!\u001B[32m [repeated 20x across cluster]\u001B[0m\n",
      "Train Processing: :  90%|█████████ | 36/40 [00:51<00:05,  1.44s/it, {'multiclassaccuracy': 0.47929686, 'multiclassprecision': 0.47929686, 'val_multiclassaccuracy': 0.40679997, 'val_multiclassprecision': 0.40679997}]\n",
      "Train Processing: :   0%|          | 0/40 [00:00<?, ?it/s]"
     ]
    },
    {
     "name": "stdout",
     "output_type": "stream",
     "text": [
      "Epoch 18/20\n",
      "\u001B[36m(ActorPYUFedAFK pid=87766)\u001B[0m {'train-loss': 0.9283868074417114, 'train_multiclassaccuracy': tensor(0.5039), 'train_multiclassprecision': tensor(0.5039), 'val_eval_multiclassaccuracy': tensor(0.4290), 'val_eval_multiclassprecision': tensor(0.4290)}\u001B[32m [repeated 10x across cluster]\u001B[0m\n"
     ]
    },
    {
     "name": "stderr",
     "output_type": "stream",
     "text": [
      "Train Processing: :   0%|          | 0/40 [00:03<?, ?it/s]\u001B[36m(ActorPYUFedAFK pid=88220)\u001B[0m W1012 13:33:25.181861 15363 external/com_github_brpc_brpc/src/bvar/detail/sampler.cpp:192] bvar is busy at sampling for 2 seconds!\u001B[32m [repeated 3x across cluster]\u001B[0m\n",
      "Train Processing: :  10%|█         | 4/40 [00:09<00:57,  1.60s/it]\u001B[36m(Actor_Masker pid=86999)\u001B[0m W1012 13:33:30.310595 14339 external/com_github_brpc_brpc/src/bvar/detail/sampler.cpp:192] bvar is busy at sampling for 2 seconds!\u001B[32m [repeated 38x across cluster]\u001B[0m\n",
      "Train Processing: :  30%|███       | 12/40 [00:15<00:26,  1.08it/s]\u001B[36m(Actor_Masker pid=86805)\u001B[0m W1012 13:33:37.585905 14851 external/com_github_brpc_brpc/src/bvar/detail/sampler.cpp:192] bvar is busy at sampling for 2 seconds!\u001B[32m [repeated 5x across cluster]\u001B[0m\n",
      "Train Processing: :  50%|█████     | 20/40 [00:21<00:15,  1.26it/s]\u001B[36m(Actor_Masker pid=86812)\u001B[0m W1012 13:33:43.172036 14851 external/com_github_brpc_brpc/src/bvar/detail/sampler.cpp:192] bvar is busy at sampling for 2 seconds!\u001B[32m [repeated 31x across cluster]\u001B[0m\n",
      "Train Processing: :  70%|███████   | 28/40 [00:26<00:08,  1.40it/s]\u001B[36m(_run pid=85097)\u001B[0m W1012 13:33:48.317327 15619 external/com_github_brpc_brpc/src/bvar/detail/sampler.cpp:192] bvar is busy at sampling for 2 seconds!\u001B[32m [repeated 31x across cluster]\u001B[0m\n",
      "Train Processing: :  80%|████████  | 32/40 [00:28<00:05,  1.45it/s]\u001B[36m(ActorPYUFedAFK pid=87723)\u001B[0m W1012 13:33:53.375026 15107 external/com_github_brpc_brpc/src/bvar/detail/sampler.cpp:192] bvar is busy at sampling for 2 seconds!\u001B[32m [repeated 32x across cluster]\u001B[0m\n",
      "Train Processing: :  90%|█████████ | 36/40 [00:34<00:03,  1.13it/s]\u001B[36m(Actor_Masker pid=86805)\u001B[0m W1012 13:33:58.311604 14851 external/com_github_brpc_brpc/src/bvar/detail/sampler.cpp:192] bvar is busy at sampling for 2 seconds!\u001B[32m [repeated 3x across cluster]\u001B[0m\n",
      "Train Processing: :  90%|█████████ | 36/40 [00:41<00:04,  1.15s/it, {'multiclassaccuracy': 0.48046875, 'multiclassprecision': 0.48046875, 'val_multiclassaccuracy': 0.40710002, 'val_multiclassprecision': 0.40710002}]\n"
     ]
    },
    {
     "name": "stdout",
     "output_type": "stream",
     "text": [
      "\u001B[36m(ActorPYUFedAFK pid=87766)\u001B[0m {'train-loss': 0.9268002510070801, 'train_multiclassaccuracy': tensor(0.5059), 'train_multiclassprecision': tensor(0.5059), 'val_eval_multiclassaccuracy': tensor(0.4260), 'val_eval_multiclassprecision': tensor(0.4260)}\u001B[32m [repeated 10x across cluster]\u001B[0m\n"
     ]
    },
    {
     "name": "stderr",
     "output_type": "stream",
     "text": [
      "Train Processing: :   0%|          | 0/40 [00:00<?, ?it/s]"
     ]
    },
    {
     "name": "stdout",
     "output_type": "stream",
     "text": [
      "Epoch 19/20\n"
     ]
    },
    {
     "name": "stderr",
     "output_type": "stream",
     "text": [
      "\u001B[36m(_run pid=85063)\u001B[0m W1012 13:34:07.525367 12803 external/com_github_brpc_brpc/src/bvar/detail/sampler.cpp:192] bvar is busy at sampling for 2 seconds!\u001B[32m [repeated 38x across cluster]\u001B[0m\n",
      "Train Processing: :  10%|█         | 4/40 [00:09<00:29,  1.21it/s]\u001B[36m(_run pid=85055)\u001B[0m W1012 13:34:14.124134 12291 external/com_github_brpc_brpc/src/bvar/detail/sampler.cpp:192] bvar is busy at sampling for 2 seconds!\u001B[32m [repeated 37x across cluster]\u001B[0m\n",
      "Train Processing: :  30%|███       | 12/40 [00:16<00:23,  1.21it/s]\u001B[36m(_run pid=85126)\u001B[0m W1012 13:34:20.650618 11523 external/com_github_brpc_brpc/src/bvar/detail/sampler.cpp:192] bvar is busy at sampling for 2 seconds!\u001B[32m [repeated 23x across cluster]\u001B[0m\n",
      "Train Processing: :  40%|████      | 16/40 [00:20<00:20,  1.14it/s]\u001B[36m(_run pid=85063)\u001B[0m W1012 13:34:27.218019 12547 external/com_github_brpc_brpc/src/bvar/detail/sampler.cpp:192] bvar is busy at sampling for 2 seconds!\n",
      "\u001B[36m(_run pid=85130)\u001B[0m W1012 13:34:27.234235 12803 external/com_github_brpc_brpc/src/bvar/detail/sampler.cpp:192] bvar is busy at sampling for 2 seconds!\n",
      "Train Processing: :  60%|██████    | 24/40 [00:29<00:16,  1.04s/it]\u001B[36m(_run pid=85130)\u001B[0m W1012 13:34:32.538365 12803 external/com_github_brpc_brpc/src/bvar/detail/sampler.cpp:192] bvar is busy at sampling for 2 seconds!\u001B[32m [repeated 39x across cluster]\u001B[0m\n",
      "Train Processing: :  70%|███████   | 28/40 [00:33<00:11,  1.03it/s]\u001B[36m(ActorPYUFedAFK pid=88166)\u001B[0m W1012 13:34:37.766836 15107 external/com_github_brpc_brpc/src/bvar/detail/sampler.cpp:192] bvar is busy at sampling for 2 seconds!\u001B[32m [repeated 46x across cluster]\u001B[0m\n",
      "Train Processing: :  90%|█████████ | 36/40 [00:39<00:03,  1.11it/s]\u001B[36m(_run pid=85126)\u001B[0m W1012 13:34:45.918839 14595 external/com_github_brpc_brpc/src/bvar/detail/sampler.cpp:192] bvar is busy at sampling for 2 seconds!\u001B[32m [repeated 40x across cluster]\u001B[0m\n",
      "Train Processing: :  90%|█████████ | 36/40 [00:45<00:05,  1.26s/it, {'multiclassaccuracy': 0.4814453, 'multiclassprecision': 0.4814453, 'val_multiclassaccuracy': 0.40760002, 'val_multiclassprecision': 0.40760002}]\n",
      "Train Processing: :   0%|          | 0/40 [00:00<?, ?it/s]"
     ]
    },
    {
     "name": "stdout",
     "output_type": "stream",
     "text": [
      "Epoch 20/20\n",
      "\u001B[36m(ActorPYUFedAFK pid=87766)\u001B[0m {'train-loss': 0.9251884818077087, 'train_multiclassaccuracy': tensor(0.5098), 'train_multiclassprecision': tensor(0.5098), 'val_eval_multiclassaccuracy': tensor(0.4280), 'val_eval_multiclassprecision': tensor(0.4280)}\u001B[32m [repeated 10x across cluster]\u001B[0m\n"
     ]
    },
    {
     "name": "stderr",
     "output_type": "stream",
     "text": [
      "Train Processing: :   0%|          | 0/40 [00:03<?, ?it/s]\u001B[36m(Actor_Masker pid=86874)\u001B[0m W1012 13:34:54.034528 15107 external/com_github_brpc_brpc/src/bvar/detail/sampler.cpp:192] bvar is busy at sampling for 2 seconds!\u001B[32m [repeated 17x across cluster]\u001B[0m\n",
      "Train Processing: :  10%|█         | 4/40 [00:10<01:05,  1.82s/it]\u001B[36m(Actor_Masker pid=86874)\u001B[0m W1012 13:35:02.379594 15107 external/com_github_brpc_brpc/src/bvar/detail/sampler.cpp:192] bvar is busy at sampling for 2 seconds!\u001B[32m [repeated 20x across cluster]\u001B[0m\n",
      "Train Processing: :  20%|██        | 8/40 [00:16<00:50,  1.58s/it]\u001B[36m(Actor_Masker pid=86999)\u001B[0m W1012 13:35:07.972276 14339 external/com_github_brpc_brpc/src/bvar/detail/sampler.cpp:192] bvar is busy at sampling for 2 seconds!\u001B[32m [repeated 16x across cluster]\u001B[0m\n",
      "Train Processing: :  30%|███       | 12/40 [00:21<00:41,  1.48s/it]\u001B[36m(ActorPYUFedAFK pid=88166)\u001B[0m W1012 13:35:13.350106 14851 external/com_github_brpc_brpc/src/bvar/detail/sampler.cpp:192] bvar is busy at sampling for 2 seconds!\u001B[32m [repeated 12x across cluster]\u001B[0m\n",
      "Train Processing: :  50%|█████     | 20/40 [00:29<00:23,  1.16s/it]\u001B[36m(ActorPYUFedAFK pid=87766)\u001B[0m W1012 13:35:19.376869 15107 external/com_github_brpc_brpc/src/bvar/detail/sampler.cpp:192] bvar is busy at sampling for 2 seconds!\u001B[32m [repeated 5x across cluster]\u001B[0m\n",
      "Train Processing: :  60%|██████    | 24/40 [00:33<00:17,  1.12s/it]\u001B[36m(Actor_Masker pid=86999)\u001B[0m W1012 13:35:25.397850 14339 external/com_github_brpc_brpc/src/bvar/detail/sampler.cpp:192] bvar is busy at sampling for 2 seconds!\u001B[32m [repeated 15x across cluster]\u001B[0m\n",
      "Train Processing: :  70%|███████   | 28/40 [00:40<00:15,  1.32s/it]\u001B[36m(_run pid=85060)\u001B[0m W1012 13:35:31.097501 12547 external/com_github_brpc_brpc/src/bvar/detail/sampler.cpp:192] bvar is busy at sampling for 2 seconds!\u001B[32m [repeated 31x across cluster]\u001B[0m\n",
      "Train Processing: :  80%|████████  | 32/40 [00:47<00:11,  1.42s/it]\u001B[36m(_run pid=85060)\u001B[0m W1012 13:35:36.488152 12291 external/com_github_brpc_brpc/src/bvar/detail/sampler.cpp:192] bvar is busy at sampling for 2 seconds!\u001B[32m [repeated 26x across cluster]\u001B[0m\n",
      "\u001B[36m(_run pid=85130)\u001B[0m W1012 13:35:41.707506 12547 external/com_github_brpc_brpc/src/bvar/detail/sampler.cpp:192] bvar is busy at sampling for 2 seconds!\u001B[32m [repeated 10x across cluster]\u001B[0m\n",
      "Train Processing: :  90%|█████████ | 36/40 [00:57<00:07,  1.78s/it]\u001B[36m(Actor_Masker pid=86850)\u001B[0m W1012 13:35:50.136687 12291 external/com_github_brpc_brpc/src/bvar/detail/sampler.cpp:192] bvar is busy at sampling for 2 seconds!\u001B[32m [repeated 31x across cluster]\u001B[0m\n",
      "Train Processing: :  90%|█████████ | 36/40 [01:03<00:07,  1.76s/it, {'multiclassaccuracy': 0.48398438, 'multiclassprecision': 0.48398438, 'val_multiclassaccuracy': 0.41169995, 'val_multiclassprecision': 0.41169995}]\n"
     ]
    }
   ],
   "execution_count": 12
  },
  {
   "cell_type": "markdown",
   "id": "787940c1-2ebe-4b91-a39f-f5784d9006fe",
   "metadata": {},
   "source": [
    "FedAvg训练"
   ]
  },
  {
   "cell_type": "code",
   "id": "18184669-189c-4415-a31f-9778a165e911",
   "metadata": {
    "ExecuteTime": {
     "end_time": "2024-10-12T05:52:15.045860Z",
     "start_time": "2024-10-12T05:38:40.020159Z"
    }
   },
   "source": [
    "# spcify params\n",
    "fl_model_avg = FLModel(\n",
    "    server=server,\n",
    "    device_list=device_list,\n",
    "    model=model_def,\n",
    "    aggregator=aggregator,\n",
    "    strategy=\"fed_avg_w\",\n",
    "    backend=\"torch\",\n",
    ")\n",
    "history_ = fl_model_avg.fit(\n",
    "    train_data,\n",
    "    train_label,\n",
    "    validation_data=(test_data, test_label),\n",
    "    epochs=20,\n",
    "    batch_size=128,\n",
    "    aggregate_freq=4,\n",
    ")"
   ],
   "outputs": [
    {
     "name": "stderr",
     "output_type": "stream",
     "text": [
      "INFO:root:Create proxy actor <class 'abc.ActorPYUFedAvgW'> with party client1.\n",
      "INFO:root:Create proxy actor <class 'abc.ActorPYUFedAvgW'> with party client2.\n",
      "INFO:root:Create proxy actor <class 'abc.ActorPYUFedAvgW'> with party client3.\n",
      "INFO:root:Create proxy actor <class 'abc.ActorPYUFedAvgW'> with party client4.\n"
     ]
    },
    {
     "name": "stdout",
     "output_type": "stream",
     "text": [
      "\u001B[33m(raylet)\u001B[0m WARNING: 56 PYTHON worker processes have been started on node: 675f73c1a5ba4715ddc28c11b5e1aa1682816247f03f62e8796a52bc with address: 127.0.0.1. This could be a result of using a large number of actors, or due to tasks blocked in ray.get() calls (see https://github.com/ray-project/ray/issues/3644 for some discussion of workarounds).\n"
     ]
    },
    {
     "name": "stderr",
     "output_type": "stream",
     "text": [
      "INFO:root:Create proxy actor <class 'abc.ActorPYUFedAvgW'> with party client5.\n",
      "INFO:root:Create proxy actor <class 'abc.ActorPYUFedAvgW'> with party client6.\n",
      "INFO:root:Create proxy actor <class 'abc.ActorPYUFedAvgW'> with party client7.\n",
      "INFO:root:Create proxy actor <class 'abc.ActorPYUFedAvgW'> with party client8.\n",
      "INFO:root:Create proxy actor <class 'abc.ActorPYUFedAvgW'> with party client9.\n",
      "INFO:root:Create proxy actor <class 'abc.ActorPYUFedAvgW'> with party client10.\n",
      "INFO:root:FL Train Params: {'x': FedNdarray(partitions={PYURuntime(client1): <secretflow.device.device.pyu.PYUObject object at 0x15e4e18a0>, PYURuntime(client2): <secretflow.device.device.pyu.PYUObject object at 0x15e2ec250>, PYURuntime(client3): <secretflow.device.device.pyu.PYUObject object at 0x15e4ca860>, PYURuntime(client4): <secretflow.device.device.pyu.PYUObject object at 0x3ace838e0>, PYURuntime(client5): <secretflow.device.device.pyu.PYUObject object at 0x3aced19f0>, PYURuntime(client6): <secretflow.device.device.pyu.PYUObject object at 0x3aced0d30>, PYURuntime(client7): <secretflow.device.device.pyu.PYUObject object at 0x107d46f50>, PYURuntime(client8): <secretflow.device.device.pyu.PYUObject object at 0x3acec8580>, PYURuntime(client9): <secretflow.device.device.pyu.PYUObject object at 0x3acec9a20>, PYURuntime(client10): <secretflow.device.device.pyu.PYUObject object at 0x3acec83a0>}, partition_way=<PartitionWay.HORIZONTAL: 'horizontal'>), 'y': FedNdarray(partitions={PYURuntime(client1): <secretflow.device.device.pyu.PYUObject object at 0x15dfd32e0>, PYURuntime(client2): <secretflow.device.device.pyu.PYUObject object at 0x3aeeeee60>, PYURuntime(client3): <secretflow.device.device.pyu.PYUObject object at 0x3aeeef6d0>, PYURuntime(client4): <secretflow.device.device.pyu.PYUObject object at 0x3aeeec3d0>, PYURuntime(client5): <secretflow.device.device.pyu.PYUObject object at 0x3aeeefbb0>, PYURuntime(client6): <secretflow.device.device.pyu.PYUObject object at 0x3aeeef3a0>, PYURuntime(client7): <secretflow.device.device.pyu.PYUObject object at 0x3aeeecac0>, PYURuntime(client8): <secretflow.device.device.pyu.PYUObject object at 0x3aeeec490>, PYURuntime(client9): <secretflow.device.device.pyu.PYUObject object at 0x3aeeef340>, PYURuntime(client10): <secretflow.device.device.pyu.PYUObject object at 0x3ac9610f0>}, partition_way=<PartitionWay.HORIZONTAL: 'horizontal'>), 'batch_size': 128, 'batch_sampling_rate': None, 'epochs': 20, 'verbose': 1, 'callbacks': None, 'validation_data': (FedNdarray(partitions={PYURuntime(client1): <secretflow.device.device.pyu.PYUObject object at 0x15dfd3a90>, PYURuntime(client2): <secretflow.device.device.pyu.PYUObject object at 0x3aced2fe0>, PYURuntime(client3): <secretflow.device.device.pyu.PYUObject object at 0x3aced15a0>, PYURuntime(client4): <secretflow.device.device.pyu.PYUObject object at 0x3acec8e50>, PYURuntime(client5): <secretflow.device.device.pyu.PYUObject object at 0x3acec8190>, PYURuntime(client6): <secretflow.device.device.pyu.PYUObject object at 0x3acec9ae0>, PYURuntime(client7): <secretflow.device.device.pyu.PYUObject object at 0x3acec8af0>, PYURuntime(client8): <secretflow.device.device.pyu.PYUObject object at 0x3aeeeca60>, PYURuntime(client9): <secretflow.device.device.pyu.PYUObject object at 0x3aeeef130>, PYURuntime(client10): <secretflow.device.device.pyu.PYUObject object at 0x3aeeec1f0>}, partition_way=<PartitionWay.HORIZONTAL: 'horizontal'>), FedNdarray(partitions={PYURuntime(client1): <secretflow.device.device.pyu.PYUObject object at 0x3aeeeca30>, PYURuntime(client2): <secretflow.device.device.pyu.PYUObject object at 0x3aeeec460>, PYURuntime(client3): <secretflow.device.device.pyu.PYUObject object at 0x3aeeef310>, PYURuntime(client4): <secretflow.device.device.pyu.PYUObject object at 0x3aeeefe20>, PYURuntime(client5): <secretflow.device.device.pyu.PYUObject object at 0x3aeeecd90>, PYURuntime(client6): <secretflow.device.device.pyu.PYUObject object at 0x3aeef3340>, PYURuntime(client7): <secretflow.device.device.pyu.PYUObject object at 0x3aeef3550>, PYURuntime(client8): <secretflow.device.device.pyu.PYUObject object at 0x3aeef3d00>, PYURuntime(client9): <secretflow.device.device.pyu.PYUObject object at 0x3aef6d7e0>, PYURuntime(client10): <secretflow.device.device.pyu.PYUObject object at 0x3aef6c3d0>}, partition_way=<PartitionWay.HORIZONTAL: 'horizontal'>)), 'shuffle': False, 'class_weight': None, 'sample_weight': None, 'validation_freq': 1, 'aggregate_freq': 4, 'label_decoder': None, 'max_batch_size': 20000, 'prefetch_buffer_size': None, 'sampler_method': 'batch', 'random_seed': 22269, 'dp_spent_step_freq': None, 'audit_log_dir': None, 'dataset_builder': None, 'wait_steps': 100, 'self': <secretflow.ml.nn.fl.fl_model.FLModel object at 0x3f3e5acb0>}\n",
      "\u001B[36m(_run pid=85059)\u001B[0m W1012 13:38:45.729251 11779 external/com_github_brpc_brpc/src/bvar/detail/sampler.cpp:192] bvar is busy at sampling for 2 seconds!\n",
      "\u001B[36m(Actor_Masker pid=86812)\u001B[0m W1012 13:38:57.405134 11779 external/com_github_brpc_brpc/src/bvar/detail/sampler.cpp:192] bvar is busy at sampling for 2 seconds!\u001B[32m [repeated 9x across cluster]\u001B[0m\n",
      "Train Processing: :   0%|          | 0/40 [00:00<?, ?it/s]"
     ]
    },
    {
     "name": "stdout",
     "output_type": "stream",
     "text": [
      "Epoch 1/20\n"
     ]
    },
    {
     "name": "stderr",
     "output_type": "stream",
     "text": [
      "Train Processing: :  90%|█████████ | 36/40 [00:07<00:00,  5.32it/s]\u001B[36m(ActorPYUFedAFK pid=88364)\u001B[0m W1012 13:39:17.153190 13059 external/com_github_brpc_brpc/src/bvar/detail/sampler.cpp:192] bvar is busy at sampling for 2 seconds!\u001B[32m [repeated 23x across cluster]\u001B[0m\n",
      "Train Processing: :  90%|█████████ | 36/40 [00:16<00:01,  2.19it/s, {'multiclassaccuracy': 0.29344, 'multiclassprecision': 0.29344, 'val_multiclassaccuracy': 0.24169998, 'val_multiclassprecision': 0.24169998}]\n",
      "Train Processing: :   0%|          | 0/40 [00:00<?, ?it/s]"
     ]
    },
    {
     "name": "stdout",
     "output_type": "stream",
     "text": [
      "Epoch 2/20\n",
      "\u001B[36m(ActorPYUFedAvgW pid=71121)\u001B[0m {'train-loss': 1.8148003816604614, 'train_multiclassaccuracy': tensor(0.3364), 'train_multiclassprecision': tensor(0.3364), 'val_eval_multiclassaccuracy': tensor(0.3720), 'val_eval_multiclassprecision': tensor(0.3720)}\n"
     ]
    },
    {
     "name": "stderr",
     "output_type": "stream",
     "text": [
      "Train Processing: :   0%|          | 0/40 [00:00<?, ?it/s]\u001B[36m(ActorPYUFedAvgW pid=71394)\u001B[0m W1012 13:39:25.385538 14851 external/com_github_brpc_brpc/src/bvar/detail/sampler.cpp:192] bvar is busy at sampling for 2 seconds!\u001B[32m [repeated 37x across cluster]\u001B[0m\n",
      "Train Processing: :  90%|█████████ | 36/40 [00:16<00:01,  2.16it/s, {'multiclassaccuracy': 0.33459997, 'multiclassprecision': 0.33459997, 'val_multiclassaccuracy': 0.2619, 'val_multiclassprecision': 0.2619}]\n",
      "Train Processing: :   0%|          | 0/40 [00:00<?, ?it/s]"
     ]
    },
    {
     "name": "stdout",
     "output_type": "stream",
     "text": [
      "Epoch 3/20\n",
      "\u001B[36m(ActorPYUFedAvgW pid=71121)\u001B[0m {'train-loss': 1.7972277402877808, 'train_multiclassaccuracy': tensor(0.3934), 'train_multiclassprecision': tensor(0.3934), 'val_eval_multiclassaccuracy': tensor(0.3960), 'val_eval_multiclassprecision': tensor(0.3960)}\u001B[32m [repeated 10x across cluster]\u001B[0m\n"
     ]
    },
    {
     "name": "stderr",
     "output_type": "stream",
     "text": [
      "Train Processing: :  80%|████████  | 32/40 [00:06<00:01,  5.28it/s]\u001B[36m(ActorPYUFedAFK pid=88166)\u001B[0m W1012 13:39:49.256105 14851 external/com_github_brpc_brpc/src/bvar/detail/sampler.cpp:192] bvar is busy at sampling for 2 seconds!\u001B[32m [repeated 37x across cluster]\u001B[0m\n",
      "Train Processing: :  90%|█████████ | 36/40 [00:15<00:01,  2.33it/s, {'multiclassaccuracy': 0.34622, 'multiclassprecision': 0.34622, 'val_multiclassaccuracy': 0.268, 'val_multiclassprecision': 0.268}]\n",
      "Train Processing: :   0%|          | 0/40 [00:00<?, ?it/s]"
     ]
    },
    {
     "name": "stdout",
     "output_type": "stream",
     "text": [
      "Epoch 4/20\n",
      "\u001B[36m(ActorPYUFedAvgW pid=71121)\u001B[0m {'train-loss': 1.7698228359222412, 'train_multiclassaccuracy': tensor(0.4020), 'train_multiclassprecision': tensor(0.4020), 'val_eval_multiclassaccuracy': tensor(0.4040), 'val_eval_multiclassprecision': tensor(0.4040)}\u001B[32m [repeated 10x across cluster]\u001B[0m\n"
     ]
    },
    {
     "name": "stderr",
     "output_type": "stream",
     "text": [
      "Train Processing: :  90%|█████████ | 36/40 [00:16<00:01,  2.19it/s, {'multiclassaccuracy': 0.35302, 'multiclassprecision': 0.35302, 'val_multiclassaccuracy': 0.2734, 'val_multiclassprecision': 0.2734}]\n",
      "Train Processing: :   0%|          | 0/40 [00:00<?, ?it/s]"
     ]
    },
    {
     "name": "stdout",
     "output_type": "stream",
     "text": [
      "Epoch 5/20\n",
      "\u001B[36m(ActorPYUFedAvgW pid=71121)\u001B[0m {'train-loss': 1.7440818548202515, 'train_multiclassaccuracy': tensor(0.4096), 'train_multiclassprecision': tensor(0.4096), 'val_eval_multiclassaccuracy': tensor(0.4090), 'val_eval_multiclassprecision': tensor(0.4090)}\u001B[32m [repeated 10x across cluster]\u001B[0m\n"
     ]
    },
    {
     "name": "stderr",
     "output_type": "stream",
     "text": [
      "Train Processing: :  90%|█████████ | 36/40 [00:08<00:00,  4.75it/s]\u001B[36m(Actor_Masker pid=86850)\u001B[0m W1012 13:40:21.406154 15363 external/com_github_brpc_brpc/src/bvar/detail/sampler.cpp:192] bvar is busy at sampling for 2 seconds!\u001B[32m [repeated 21x across cluster]\u001B[0m\n",
      "Train Processing: :  90%|█████████ | 36/40 [00:17<00:01,  2.03it/s, {'multiclassaccuracy': 0.35822, 'multiclassprecision': 0.35822, 'val_multiclassaccuracy': 0.27539998, 'val_multiclassprecision': 0.27539998}]\n",
      "Train Processing: :   0%|          | 0/40 [00:00<?, ?it/s]"
     ]
    },
    {
     "name": "stdout",
     "output_type": "stream",
     "text": [
      "Epoch 6/20\n",
      "\u001B[36m(ActorPYUFedAvgW pid=71121)\u001B[0m {'train-loss': 1.7194595336914062, 'train_multiclassaccuracy': tensor(0.4166), 'train_multiclassprecision': tensor(0.4166), 'val_eval_multiclassaccuracy': tensor(0.4110), 'val_eval_multiclassprecision': tensor(0.4110)}\u001B[32m [repeated 10x across cluster]\u001B[0m\n"
     ]
    },
    {
     "name": "stderr",
     "output_type": "stream",
     "text": [
      "\u001B[36m(ActorPYUFedAFK pid=88039)\u001B[0m W1012 13:40:31.005487 12291 external/com_github_brpc_brpc/src/bvar/detail/sampler.cpp:192] bvar is busy at sampling for 2 seconds!\u001B[32m [repeated 30x across cluster]\u001B[0m\n",
      "Train Processing: :  30%|███       | 12/40 [00:15<00:12,  2.25it/s]\u001B[36m(Actor_Masker pid=86825)\u001B[0m W1012 13:40:42.772141 12291 external/com_github_brpc_brpc/src/bvar/detail/sampler.cpp:192] bvar is busy at sampling for 2 seconds!\u001B[32m [repeated 40x across cluster]\u001B[0m\n",
      "Train Processing: :  50%|█████     | 20/40 [00:19<00:09,  2.00it/s]\u001B[36m(Actor_Masker pid=86832)\u001B[0m W1012 13:40:47.843715 12291 external/com_github_brpc_brpc/src/bvar/detail/sampler.cpp:192] bvar is busy at sampling for 2 seconds!\u001B[32m [repeated 29x across cluster]\u001B[0m\n",
      "Train Processing: :  70%|███████   | 28/40 [00:24<00:06,  1.86it/s]\u001B[36m(Actor_Masker pid=86812)\u001B[0m W1012 13:40:53.065659 14851 external/com_github_brpc_brpc/src/bvar/detail/sampler.cpp:192] bvar is busy at sampling for 2 seconds!\u001B[32m [repeated 31x across cluster]\u001B[0m\n",
      "Train Processing: :  90%|█████████ | 36/40 [00:31<00:02,  1.38it/s]\u001B[36m(Actor_Masker pid=87001)\u001B[0m W1012 13:41:01.043631 14339 external/com_github_brpc_brpc/src/bvar/detail/sampler.cpp:192] bvar is busy at sampling for 2 seconds!\u001B[32m [repeated 53x across cluster]\u001B[0m\n",
      "W1012 13:41:12.529806  9219 external/com_github_brpc_brpc/src/bvar/detail/sampler.cpp:192] bvar is busy at sampling for 2 seconds!\n",
      "\u001B[36m(Actor_Masker pid=86812)\u001B[0m W1012 13:41:06.875806 14851 external/com_github_brpc_brpc/src/bvar/detail/sampler.cpp:192] bvar is busy at sampling for 2 seconds!\u001B[32m [repeated 6x across cluster]\u001B[0m\n",
      "W1012 13:41:25.936367  8963 external/com_github_brpc_brpc/src/bvar/detail/sampler.cpp:192] bvar is busy at sampling for 2 seconds!\n",
      "W1012 13:41:31.408702  8963 external/com_github_brpc_brpc/src/bvar/detail/sampler.cpp:192] bvar is busy at sampling for 2 seconds!\n",
      "W1012 13:41:33.791124  9219 external/com_github_brpc_brpc/src/bvar/detail/sampler.cpp:192] bvar is busy at sampling for 2 seconds!\n",
      "W1012 13:41:41.838938  9219 external/com_github_brpc_brpc/src/bvar/detail/sampler.cpp:192] bvar is busy at sampling for 2 seconds!\n",
      "\u001B[36m(ActorPYUFedAFK pid=88364)\u001B[0m W1012 13:41:35.246200 12803 external/com_github_brpc_brpc/src/bvar/detail/sampler.cpp:192] bvar is busy at sampling for 2 seconds!\u001B[32m [repeated 151x across cluster]\u001B[0m\n",
      "2024-10-12 13:41:58,184\tWARNING worker.py:888 -- The driver may not be able to keep up with the stdout/stderr of the workers. To avoid forwarding logs to the driver, use 'ray.init(log_to_driver=False)'.\n",
      "W1012 13:42:06.778092  9219 external/com_github_brpc_brpc/src/bvar/detail/sampler.cpp:192] bvar is busy at sampling for 2 seconds!\n",
      "\u001B[36m(Actor_Masker pid=86874)\u001B[0m W1012 13:41:58.189621 15107 external/com_github_brpc_brpc/src/bvar/detail/sampler.cpp:192] bvar is busy at sampling for 2 seconds!\u001B[32m [repeated 203x across cluster]\u001B[0m\n",
      "W1012 13:42:12.283310  8963 external/com_github_brpc_brpc/src/bvar/detail/sampler.cpp:192] bvar is busy at sampling for 2 seconds!\n",
      "\u001B[36m(Actor_Masker pid=86825)\u001B[0m W1012 13:42:16.236139 15107 external/com_github_brpc_brpc/src/bvar/detail/sampler.cpp:192] bvar is busy at sampling for 2 seconds!\u001B[32m [repeated 143x across cluster]\u001B[0m\n",
      "Train Processing: :  90%|█████████ | 36/40 [02:00<00:13,  3.34s/it, {'multiclassaccuracy': 0.36164, 'multiclassprecision': 0.36164, 'val_multiclassaccuracy': 0.2789, 'val_multiclassprecision': 0.2789}]\n",
      "Train Processing: :   0%|          | 0/40 [00:00<?, ?it/s]"
     ]
    },
    {
     "name": "stdout",
     "output_type": "stream",
     "text": [
      "Epoch 7/20\n",
      "\u001B[36m(ActorPYUFedAvgW pid=71121)\u001B[0m {'train-loss': 1.6957628726959229, 'train_multiclassaccuracy': tensor(0.4210), 'train_multiclassprecision': tensor(0.4210), 'val_eval_multiclassaccuracy': tensor(0.4130), 'val_eval_multiclassprecision': tensor(0.4130)}\u001B[32m [repeated 10x across cluster]\u001B[0m\n"
     ]
    },
    {
     "name": "stderr",
     "output_type": "stream",
     "text": [
      "Train Processing: :   0%|          | 0/40 [00:02<?, ?it/s]\u001B[36m(Actor_Masker pid=86999)\u001B[0m W1012 13:42:32.624082 14339 external/com_github_brpc_brpc/src/bvar/detail/sampler.cpp:192] bvar is busy at sampling for 2 seconds!\u001B[32m [repeated 104x across cluster]\u001B[0m\n",
      "Train Processing: :  30%|███       | 12/40 [00:08<00:13,  2.11it/s]\u001B[36m(ActorPYUFedAvgW pid=71714)\u001B[0m W1012 13:42:38.299089 15107 external/com_github_brpc_brpc/src/bvar/detail/sampler.cpp:192] bvar is busy at sampling for 2 seconds!\u001B[32m [repeated 45x across cluster]\u001B[0m\n",
      "Train Processing: :  60%|██████    | 24/40 [00:14<00:07,  2.03it/s]\u001B[36m(Actor_Masker pid=86812)\u001B[0m W1012 13:42:43.263072 14851 external/com_github_brpc_brpc/src/bvar/detail/sampler.cpp:192] bvar is busy at sampling for 2 seconds!\u001B[32m [repeated 44x across cluster]\u001B[0m\n",
      "Train Processing: :  90%|█████████ | 36/40 [00:20<00:01,  2.06it/s]\u001B[36m(Actor_Masker pid=86805)\u001B[0m W1012 13:42:51.155347 14851 external/com_github_brpc_brpc/src/bvar/detail/sampler.cpp:192] bvar is busy at sampling for 2 seconds!\u001B[32m [repeated 36x across cluster]\u001B[0m\n",
      "\u001B[36m(Actor_Masker pid=86862)\u001B[0m W1012 13:42:51.378232 12035 external/com_github_brpc_brpc/src/bvar/detail/sampler.cpp:192] bvar is busy at sampling for 2 seconds!\n",
      "\u001B[36m(_run pid=85062)\u001B[0m W1012 13:42:53.007755 12547 external/com_github_brpc_brpc/src/bvar/detail/sampler.cpp:192] bvar is busy at sampling for 2 seconds!\n",
      "Train Processing: :  90%|█████████ | 36/40 [00:47<00:05,  1.32s/it, {'multiclassaccuracy': 0.36478, 'multiclassprecision': 0.36478, 'val_multiclassaccuracy': 0.28190002, 'val_multiclassprecision': 0.28190002}]\n"
     ]
    },
    {
     "name": "stdout",
     "output_type": "stream",
     "text": [
      "\u001B[36m(ActorPYUFedAvgW pid=71121)\u001B[0m {'train-loss': 1.6727603673934937, 'train_multiclassaccuracy': tensor(0.4230), 'train_multiclassprecision': tensor(0.4230), 'val_eval_multiclassaccuracy': tensor(0.4190), 'val_eval_multiclassprecision': tensor(0.4190)}\u001B[32m [repeated 10x across cluster]\u001B[0m\n"
     ]
    },
    {
     "name": "stderr",
     "output_type": "stream",
     "text": [
      "Train Processing: :   0%|          | 0/40 [00:00<?, ?it/s]"
     ]
    },
    {
     "name": "stdout",
     "output_type": "stream",
     "text": [
      "Epoch 8/20\n"
     ]
    },
    {
     "name": "stderr",
     "output_type": "stream",
     "text": [
      "Train Processing: :   0%|          | 0/40 [00:01<?, ?it/s]\u001B[36m(ActorPYUFedAvgW pid=71567)\u001B[0m W1012 13:43:18.905488 15875 external/com_github_brpc_brpc/src/bvar/detail/sampler.cpp:192] bvar is busy at sampling for 2 seconds!\u001B[32m [repeated 214x across cluster]\u001B[0m\n",
      "Train Processing: :  20%|██        | 8/40 [00:05<00:15,  2.00it/s]\u001B[36m(Actor_Masker pid=86812)\u001B[0m W1012 13:43:24.024475 14851 external/com_github_brpc_brpc/src/bvar/detail/sampler.cpp:192] bvar is busy at sampling for 2 seconds!\u001B[32m [repeated 31x across cluster]\u001B[0m\n",
      "Train Processing: :  30%|███       | 12/40 [00:10<00:23,  1.21it/s]\u001B[36m(Actor_Masker pid=86844)\u001B[0m W1012 13:43:29.089997 11779 external/com_github_brpc_brpc/src/bvar/detail/sampler.cpp:192] bvar is busy at sampling for 2 seconds!\u001B[32m [repeated 38x across cluster]\u001B[0m\n",
      "Train Processing: :  80%|████████  | 32/40 [00:25<00:05,  1.52it/s]\u001B[36m(Actor_Masker pid=86805)\u001B[0m W1012 13:43:42.903385 12035 external/com_github_brpc_brpc/src/bvar/detail/sampler.cpp:192] bvar is busy at sampling for 2 seconds!\u001B[32m [repeated 25x across cluster]\u001B[0m\n",
      "Train Processing: :  90%|█████████ | 36/40 [00:28<00:02,  1.41it/s]\u001B[36m(ActorPYUFedAFK pid=88220)\u001B[0m W1012 13:43:47.369657 15107 external/com_github_brpc_brpc/src/bvar/detail/sampler.cpp:192] bvar is busy at sampling for 2 seconds!W1012 13:43:52.830467  8963 external/com_github_brpc_brpc/src/bvar/detail/sampler.cpp:192] bvar is busy at sampling for 2 seconds!\n",
      "\n",
      "W1012 13:44:08.078482  8963 external/com_github_brpc_brpc/src/bvar/detail/sampler.cpp:192] bvar is busy at sampling for 2 seconds!\n",
      "\u001B[36m(_run pid=85097)\u001B[0m W1012 13:43:48.837615 15619 external/com_github_brpc_brpc/src/bvar/detail/sampler.cpp:192] bvar is busy at sampling for 2 seconds!\n",
      "Train Processing: :  90%|█████████ | 36/40 [00:55<00:06,  1.54s/it, {'multiclassaccuracy': 0.36738, 'multiclassprecision': 0.36738, 'val_multiclassaccuracy': 0.2847, 'val_multiclassprecision': 0.2847}]\n"
     ]
    },
    {
     "name": "stdout",
     "output_type": "stream",
     "text": [
      "\u001B[36m(ActorPYUFedAvgW pid=71121)\u001B[0m {'train-loss': 1.6501346826553345, 'train_multiclassaccuracy': tensor(0.4282), 'train_multiclassprecision': tensor(0.4282), 'val_eval_multiclassaccuracy': tensor(0.4240), 'val_eval_multiclassprecision': tensor(0.4240)}\u001B[32m [repeated 10x across cluster]\u001B[0m\n"
     ]
    },
    {
     "name": "stderr",
     "output_type": "stream",
     "text": [
      "Train Processing: :   0%|          | 0/40 [00:00<?, ?it/s]"
     ]
    },
    {
     "name": "stdout",
     "output_type": "stream",
     "text": [
      "Epoch 9/20\n"
     ]
    },
    {
     "name": "stderr",
     "output_type": "stream",
     "text": [
      "Train Processing: :  50%|█████     | 20/40 [00:13<00:10,  1.86it/s]\u001B[36m(ActorPYUFedAFK pid=88364)\u001B[0m W1012 13:44:27.073588 13059 external/com_github_brpc_brpc/src/bvar/detail/sampler.cpp:192] bvar is busy at sampling for 2 seconds!\u001B[32m [repeated 187x across cluster]\u001B[0m\n",
      "Train Processing: :  60%|██████    | 24/40 [00:17<00:10,  1.57it/s]\u001B[36m(Actor_Masker pid=86999)\u001B[0m W1012 13:44:32.118595 14339 external/com_github_brpc_brpc/src/bvar/detail/sampler.cpp:192] bvar is busy at sampling for 2 seconds!\u001B[32m [repeated 18x across cluster]\u001B[0m\n",
      "Train Processing: :  80%|████████  | 32/40 [00:24<00:06,  1.32it/s]\u001B[36m(_run pid=85062)\u001B[0m W1012 13:44:37.292613 12291 external/com_github_brpc_brpc/src/bvar/detail/sampler.cpp:192] bvar is busy at sampling for 2 seconds!\u001B[32m [repeated 41x across cluster]\u001B[0m\n",
      "Train Processing: :  90%|█████████ | 36/40 [00:26<00:02,  1.36it/s]\u001B[36m(Actor_Masker pid=86874)\u001B[0m W1012 13:44:42.884225 15107 external/com_github_brpc_brpc/src/bvar/detail/sampler.cpp:192] bvar is busy at sampling for 2 seconds!\u001B[32m [repeated 18x across cluster]\u001B[0m\n",
      "\u001B[36m(Actor_Masker pid=86999)\u001B[0m W1012 13:44:54.382109 14339 external/com_github_brpc_brpc/src/bvar/detail/sampler.cpp:192] bvar is busy at sampling for 2 seconds!\u001B[32m [repeated 85x across cluster]\u001B[0m\n",
      "Train Processing: :  90%|█████████ | 36/40 [00:51<00:05,  1.42s/it, {'multiclassaccuracy': 0.36975998, 'multiclassprecision': 0.36975998, 'val_multiclassaccuracy': 0.289, 'val_multiclassprecision': 0.289}]\n"
     ]
    },
    {
     "name": "stdout",
     "output_type": "stream",
     "text": [
      "\u001B[36m(ActorPYUFedAvgW pid=71121)\u001B[0m {'train-loss': 1.627525806427002, 'train_multiclassaccuracy': tensor(0.4296), 'train_multiclassprecision': tensor(0.4296), 'val_eval_multiclassaccuracy': tensor(0.4290), 'val_eval_multiclassprecision': tensor(0.4290)}\u001B[32m [repeated 10x across cluster]\u001B[0m\n",
      "\u001B[36m(ActorPYUFedAvgW pid=71714)\u001B[0m \n"
     ]
    },
    {
     "name": "stderr",
     "output_type": "stream",
     "text": [
      "Train Processing: :   0%|          | 0/40 [00:00<?, ?it/s]"
     ]
    },
    {
     "name": "stdout",
     "output_type": "stream",
     "text": [
      "Epoch 10/20\n"
     ]
    },
    {
     "name": "stderr",
     "output_type": "stream",
     "text": [
      "\u001B[36m(ActorPYUFedAvgW pid=71567)\u001B[0m W1012 13:45:05.954487 15875 external/com_github_brpc_brpc/src/bvar/detail/sampler.cpp:192] bvar is busy at sampling for 2 seconds!\u001B[32m [repeated 99x across cluster]\u001B[0m\n",
      "Train Processing: :  60%|██████    | 24/40 [00:11<00:05,  2.70it/s]\u001B[36m(Actor_Masker pid=86805)\u001B[0m W1012 13:45:16.393272 12035 external/com_github_brpc_brpc/src/bvar/detail/sampler.cpp:192] bvar is busy at sampling for 2 seconds!\u001B[32m [repeated 18x across cluster]\u001B[0m\n",
      "Train Processing: :  90%|█████████ | 36/40 [00:17<00:01,  2.51it/s]\u001B[36m(ActorPYUFedAvgW pid=71567)\u001B[0m W1012 13:45:24.182527 15875 external/com_github_brpc_brpc/src/bvar/detail/sampler.cpp:192] bvar is busy at sampling for 2 seconds!\u001B[32m [repeated 14x across cluster]\u001B[0m\n",
      "\u001B[36m(ActorPYUFedAvgW pid=71394)\u001B[0m W1012 13:45:33.908322 14595 external/com_github_brpc_brpc/src/bvar/detail/sampler.cpp:192] bvar is busy at sampling for 2 seconds!\u001B[32m [repeated 58x across cluster]\u001B[0m\n",
      "Train Processing: :  90%|█████████ | 36/40 [00:37<00:04,  1.03s/it, {'multiclassaccuracy': 0.37247998, 'multiclassprecision': 0.37247998, 'val_multiclassaccuracy': 0.2899, 'val_multiclassprecision': 0.2899}]\n",
      "Train Processing: :   0%|          | 0/40 [00:00<?, ?it/s]"
     ]
    },
    {
     "name": "stdout",
     "output_type": "stream",
     "text": [
      "Epoch 11/20\n",
      "\u001B[36m(ActorPYUFedAvgW pid=71121)\u001B[0m {'train-loss': 1.6056451797485352, 'train_multiclassaccuracy': tensor(0.4314), 'train_multiclassprecision': tensor(0.4314), 'val_eval_multiclassaccuracy': tensor(0.4320), 'val_eval_multiclassprecision': tensor(0.4320)}\u001B[32m [repeated 10x across cluster]\u001B[0m\n"
     ]
    },
    {
     "name": "stderr",
     "output_type": "stream",
     "text": [
      "Train Processing: :  90%|█████████ | 36/40 [00:15<00:01,  2.30it/s]\u001B[36m(_run pid=85062)\u001B[0m W1012 13:46:00.788246 12291 external/com_github_brpc_brpc/src/bvar/detail/sampler.cpp:192] bvar is busy at sampling for 2 seconds!\u001B[32m [repeated 63x across cluster]\u001B[0m\n",
      "\u001B[36m(ActorPYUFedAFK pid=88364)\u001B[0m W1012 13:46:09.316150 13059 external/com_github_brpc_brpc/src/bvar/detail/sampler.cpp:192] bvar is busy at sampling for 2 seconds!\u001B[32m [repeated 68x across cluster]\u001B[0m\n",
      "Train Processing: :  90%|█████████ | 36/40 [00:38<00:04,  1.08s/it, {'multiclassaccuracy': 0.3739, 'multiclassprecision': 0.3739, 'val_multiclassaccuracy': 0.29340002, 'val_multiclassprecision': 0.29340002}]\n",
      "Train Processing: :   0%|          | 0/40 [00:00<?, ?it/s]"
     ]
    },
    {
     "name": "stdout",
     "output_type": "stream",
     "text": [
      "Epoch 12/20\n",
      "\u001B[36m(ActorPYUFedAvgW pid=71121)\u001B[0m {'train-loss': 1.5845450162887573, 'train_multiclassaccuracy': tensor(0.4324), 'train_multiclassprecision': tensor(0.4324), 'val_eval_multiclassaccuracy': tensor(0.4400), 'val_eval_multiclassprecision': tensor(0.4400)}\u001B[32m [repeated 10x across cluster]\u001B[0m\n"
     ]
    },
    {
     "name": "stderr",
     "output_type": "stream",
     "text": [
      "Train Processing: :  70%|███████   | 28/40 [00:13<00:05,  2.10it/s]\u001B[36m(ActorPYUFedAFK pid=87867)\u001B[0m W1012 13:46:35.604163 15107 external/com_github_brpc_brpc/src/bvar/detail/sampler.cpp:192] bvar is busy at sampling for 2 seconds!\u001B[32m [repeated 87x across cluster]\u001B[0m\n",
      "Train Processing: :  90%|█████████ | 36/40 [00:18<00:02,  1.78it/s]\u001B[36m(Actor_Masker pid=86999)\u001B[0m W1012 13:46:42.419987 14595 external/com_github_brpc_brpc/src/bvar/detail/sampler.cpp:192] bvar is busy at sampling for 2 seconds!\u001B[32m [repeated 5x across cluster]\u001B[0m\n",
      "Train Processing: :  90%|█████████ | 36/40 [00:44<00:04,  1.23s/it, {'multiclassaccuracy': 0.37618, 'multiclassprecision': 0.37618, 'val_multiclassaccuracy': 0.2941, 'val_multiclassprecision': 0.2941}]\n"
     ]
    },
    {
     "name": "stdout",
     "output_type": "stream",
     "text": [
      "\u001B[36m(ActorPYUFedAvgW pid=71121)\u001B[0m {'train-loss': 1.564074993133545, 'train_multiclassaccuracy': tensor(0.4326), 'train_multiclassprecision': tensor(0.4326), 'val_eval_multiclassaccuracy': tensor(0.4440), 'val_eval_multiclassprecision': tensor(0.4440)}\u001B[32m [repeated 10x across cluster]\u001B[0m\n"
     ]
    },
    {
     "name": "stderr",
     "output_type": "stream",
     "text": [
      "Train Processing: :   0%|          | 0/40 [00:00<?, ?it/s]"
     ]
    },
    {
     "name": "stdout",
     "output_type": "stream",
     "text": [
      "Epoch 13/20\n"
     ]
    },
    {
     "name": "stderr",
     "output_type": "stream",
     "text": [
      "Train Processing: :  10%|█         | 4/40 [00:04<00:22,  1.62it/s]\u001B[36m(Actor_Masker pid=86850)\u001B[0m W1012 13:47:11.585633 15363 external/com_github_brpc_brpc/src/bvar/detail/sampler.cpp:192] bvar is busy at sampling for 2 seconds!\u001B[32m [repeated 174x across cluster]\u001B[0m\n",
      "Train Processing: :  30%|███       | 12/40 [00:09<00:16,  1.69it/s]\u001B[36m(ActorPYUFedAFK pid=88039)\u001B[0m W1012 13:47:16.628633 15363 external/com_github_brpc_brpc/src/bvar/detail/sampler.cpp:192] bvar is busy at sampling for 2 seconds!\u001B[32m [repeated 16x across cluster]\u001B[0m\n",
      "Train Processing: :  60%|██████    | 24/40 [00:16<00:09,  1.70it/s]\u001B[36m(ActorPYUFedAvgW pid=71322)\u001B[0m W1012 13:47:22.103849 14851 external/com_github_brpc_brpc/src/bvar/detail/sampler.cpp:192] bvar is busy at sampling for 2 seconds!\u001B[32m [repeated 10x across cluster]\u001B[0m\n",
      "Train Processing: :  90%|█████████ | 36/40 [00:21<00:01,  2.13it/s]\u001B[36m(ActorPYUFedAvgW pid=71183)\u001B[0m W1012 13:47:30.251909 14339 external/com_github_brpc_brpc/src/bvar/detail/sampler.cpp:192] bvar is busy at sampling for 2 seconds!\u001B[32m [repeated 18x across cluster]\u001B[0m\n",
      "W1012 13:47:42.490844  8963 external/com_github_brpc_brpc/src/bvar/detail/sampler.cpp:192] bvar is busy at sampling for 2 seconds!\n",
      "\u001B[36m(ActorPYUFedAFK pid=87766)\u001B[0m W1012 13:47:42.105866 15107 external/com_github_brpc_brpc/src/bvar/detail/sampler.cpp:192] bvar is busy at sampling for 2 seconds!\u001B[32m [repeated 43x across cluster]\u001B[0m\n",
      "Train Processing: :  90%|█████████ | 36/40 [00:42<00:04,  1.17s/it, {'multiclassaccuracy': 0.37818, 'multiclassprecision': 0.37818, 'val_multiclassaccuracy': 0.2963, 'val_multiclassprecision': 0.2963}]\n",
      "Train Processing: :   0%|          | 0/40 [00:00<?, ?it/s]"
     ]
    },
    {
     "name": "stdout",
     "output_type": "stream",
     "text": [
      "Epoch 14/20\n",
      "\u001B[36m(ActorPYUFedAvgW pid=71121)\u001B[0m {'train-loss': 1.5451278686523438, 'train_multiclassaccuracy': tensor(0.4332), 'train_multiclassprecision': tensor(0.4332), 'val_eval_multiclassaccuracy': tensor(0.4470), 'val_eval_multiclassprecision': tensor(0.4470)}\u001B[32m [repeated 10x across cluster]\u001B[0m\n"
     ]
    },
    {
     "name": "stderr",
     "output_type": "stream",
     "text": [
      "Train Processing: :  90%|█████████ | 36/40 [00:14<00:01,  2.54it/s]\u001B[36m(ActorPYUFedAFK pid=87867)\u001B[0m W1012 13:48:06.240928 12035 external/com_github_brpc_brpc/src/bvar/detail/sampler.cpp:192] bvar is busy at sampling for 2 seconds!\u001B[32m [repeated 69x across cluster]\u001B[0m\n",
      "\u001B[36m(Actor_Masker pid=86850)\u001B[0m W1012 13:48:14.988420 15363 external/com_github_brpc_brpc/src/bvar/detail/sampler.cpp:192] bvar is busy at sampling for 2 seconds!\u001B[32m [repeated 54x across cluster]\u001B[0m\n",
      "Train Processing: :  90%|█████████ | 36/40 [00:35<00:03,  1.00it/s, {'multiclassaccuracy': 0.3793, 'multiclassprecision': 0.3793, 'val_multiclassaccuracy': 0.2988, 'val_multiclassprecision': 0.2988}]\n"
     ]
    },
    {
     "name": "stdout",
     "output_type": "stream",
     "text": [
      "\u001B[36m(ActorPYUFedAvgW pid=71121)\u001B[0m {'train-loss': 1.5291341543197632, 'train_multiclassaccuracy': tensor(0.4358), 'train_multiclassprecision': tensor(0.4358), 'val_eval_multiclassaccuracy': tensor(0.4590), 'val_eval_multiclassprecision': tensor(0.4590)}\u001B[32m [repeated 10x across cluster]\u001B[0m\n"
     ]
    },
    {
     "name": "stderr",
     "output_type": "stream",
     "text": [
      "Train Processing: :   0%|          | 0/40 [00:00<?, ?it/s]"
     ]
    },
    {
     "name": "stdout",
     "output_type": "stream",
     "text": [
      "Epoch 15/20\n"
     ]
    },
    {
     "name": "stderr",
     "output_type": "stream",
     "text": [
      "Train Processing: :  90%|█████████ | 36/40 [00:14<00:01,  2.67it/s]\u001B[36m(Actor_Masker pid=86850)\u001B[0m W1012 13:48:42.099667 12291 external/com_github_brpc_brpc/src/bvar/detail/sampler.cpp:192] bvar is busy at sampling for 2 seconds!\u001B[32m [repeated 79x across cluster]\u001B[0m\n",
      "\u001B[36m(ActorPYUFedAFK pid=87920)\u001B[0m W1012 13:48:52.302391 12291 external/com_github_brpc_brpc/src/bvar/detail/sampler.cpp:192] bvar is busy at sampling for 2 seconds!\u001B[32m [repeated 61x across cluster]\u001B[0m\n",
      "Train Processing: :  90%|█████████ | 36/40 [00:35<00:03,  1.02it/s, {'multiclassaccuracy': 0.38024002, 'multiclassprecision': 0.38024002, 'val_multiclassaccuracy': 0.30069998, 'val_multiclassprecision': 0.30069998}]\n",
      "Train Processing: :   0%|          | 0/40 [00:00<?, ?it/s]"
     ]
    },
    {
     "name": "stdout",
     "output_type": "stream",
     "text": [
      "Epoch 16/20\n",
      "\u001B[36m(ActorPYUFedAvgW pid=71121)\u001B[0m {'train-loss': 1.5173804759979248, 'train_multiclassaccuracy': tensor(0.4370), 'train_multiclassprecision': tensor(0.4370), 'val_eval_multiclassaccuracy': tensor(0.4620), 'val_eval_multiclassprecision': tensor(0.4620)}\u001B[32m [repeated 10x across cluster]\u001B[0m\n"
     ]
    },
    {
     "name": "stderr",
     "output_type": "stream",
     "text": [
      "Train Processing: :  60%|██████    | 24/40 [00:09<00:05,  2.82it/s]\u001B[36m(_run pid=85062)\u001B[0m W1012 13:49:10.230710 12291 external/com_github_brpc_brpc/src/bvar/detail/sampler.cpp:192] bvar is busy at sampling for 2 seconds!\u001B[32m [repeated 66x across cluster]\u001B[0m\n",
      "Train Processing: :  90%|█████████ | 36/40 [00:14<00:01,  2.44it/s]\u001B[36m(Actor_Masker pid=86825)\u001B[0m W1012 13:49:18.198258 12291 external/com_github_brpc_brpc/src/bvar/detail/sampler.cpp:192] bvar is busy at sampling for 2 seconds!\u001B[32m [repeated 10x across cluster]\u001B[0m\n",
      "Train Processing: :  90%|█████████ | 36/40 [00:36<00:04,  1.01s/it, {'multiclassaccuracy': 0.38222003, 'multiclassprecision': 0.38222003, 'val_multiclassaccuracy': 0.3017, 'val_multiclassprecision': 0.3017}]\n",
      "Train Processing: :   0%|          | 0/40 [00:00<?, ?it/s]"
     ]
    },
    {
     "name": "stdout",
     "output_type": "stream",
     "text": [
      "Epoch 17/20\n",
      "\u001B[36m(ActorPYUFedAvgW pid=71121)\u001B[0m {'train-loss': 1.5103775262832642, 'train_multiclassaccuracy': tensor(0.4372), 'train_multiclassprecision': tensor(0.4372), 'val_eval_multiclassaccuracy': tensor(0.4610), 'val_eval_multiclassprecision': tensor(0.4610)}\u001B[32m [repeated 10x across cluster]\u001B[0m\n"
     ]
    },
    {
     "name": "stderr",
     "output_type": "stream",
     "text": [
      "Train Processing: :  70%|███████   | 28/40 [00:11<00:04,  2.67it/s]\u001B[36m(ActorPYUFedAFK pid=88113)\u001B[0m W1012 13:49:48.039143 14851 external/com_github_brpc_brpc/src/bvar/detail/sampler.cpp:192] bvar is busy at sampling for 2 seconds!\u001B[32m [repeated 131x across cluster]\u001B[0m\n",
      "Train Processing: :  90%|█████████ | 36/40 [00:15<00:01,  2.40it/s]\u001B[36m(Actor_Masker pid=86850)\u001B[0m W1012 13:49:56.100546 15363 external/com_github_brpc_brpc/src/bvar/detail/sampler.cpp:192] bvar is busy at sampling for 2 seconds!\u001B[32m [repeated 21x across cluster]\u001B[0m\n",
      "Train Processing: :  90%|█████████ | 36/40 [00:40<00:04,  1.14s/it, {'multiclassaccuracy': 0.38308, 'multiclassprecision': 0.38308, 'val_multiclassaccuracy': 0.3027, 'val_multiclassprecision': 0.3027}]\n",
      "Train Processing: :   0%|          | 0/40 [00:00<?, ?it/s]"
     ]
    },
    {
     "name": "stdout",
     "output_type": "stream",
     "text": [
      "Epoch 18/20\n",
      "\u001B[36m(ActorPYUFedAvgW pid=71121)\u001B[0m {'train-loss': 1.507669448852539, 'train_multiclassaccuracy': tensor(0.4376), 'train_multiclassprecision': tensor(0.4376), 'val_eval_multiclassaccuracy': tensor(0.4640), 'val_eval_multiclassprecision': tensor(0.4640)}\u001B[32m [repeated 10x across cluster]\u001B[0m\n"
     ]
    },
    {
     "name": "stderr",
     "output_type": "stream",
     "text": [
      "Train Processing: :  40%|████      | 16/40 [00:07<00:09,  2.55it/s]\u001B[36m(ActorPYUFedAvgW pid=71322)\u001B[0m W1012 13:50:24.704012 12291 external/com_github_brpc_brpc/src/bvar/detail/sampler.cpp:192] bvar is busy at sampling for 2 seconds!\u001B[32m [repeated 176x across cluster]\u001B[0m\n",
      "Train Processing: :  90%|█████████ | 36/40 [00:16<00:01,  2.17it/s]W1012 13:50:44.860070  8963 external/com_github_brpc_brpc/src/bvar/detail/sampler.cpp:192] bvar is busy at sampling for 2 seconds!\n",
      "\u001B[36m(Actor_Masker pid=86844)\u001B[0m W1012 13:50:37.569910 11779 external/com_github_brpc_brpc/src/bvar/detail/sampler.cpp:192] bvar is busy at sampling for 2 seconds!\u001B[32m [repeated 2x across cluster]\u001B[0m\n",
      "\u001B[36m(ActorPYUFedAvgW pid=71121)\u001B[0m W1012 13:50:37.524287 11011 external/com_github_brpc_brpc/src/bvar/detail/sampler.cpp:192] bvar is busy at sampling for 2 seconds!\n",
      "\u001B[36m(ActorPYUFedAvgW pid=71394)\u001B[0m W1012 13:50:38.837006 14851 external/com_github_brpc_brpc/src/bvar/detail/sampler.cpp:192] bvar is busy at sampling for 2 seconds!\n",
      "Train Processing: :  90%|█████████ | 36/40 [00:39<00:04,  1.09s/it, {'multiclassaccuracy': 0.3858, 'multiclassprecision': 0.3858, 'val_multiclassaccuracy': 0.3037, 'val_multiclassprecision': 0.3037}]\n"
     ]
    },
    {
     "name": "stdout",
     "output_type": "stream",
     "text": [
      "\u001B[36m(ActorPYUFedAvgW pid=71121)\u001B[0m {'train-loss': 1.5083837509155273, 'train_multiclassaccuracy': tensor(0.4418), 'train_multiclassprecision': tensor(0.4418), 'val_eval_multiclassaccuracy': tensor(0.4660), 'val_eval_multiclassprecision': tensor(0.4660)}\u001B[32m [repeated 10x across cluster]\u001B[0m\n"
     ]
    },
    {
     "name": "stderr",
     "output_type": "stream",
     "text": [
      "Train Processing: :   0%|          | 0/40 [00:00<?, ?it/s]"
     ]
    },
    {
     "name": "stdout",
     "output_type": "stream",
     "text": [
      "Epoch 19/20\n"
     ]
    },
    {
     "name": "stderr",
     "output_type": "stream",
     "text": [
      "Train Processing: :  90%|█████████ | 36/40 [00:13<00:01,  2.93it/s]\u001B[36m(Actor_Masker pid=86832)\u001B[0m W1012 13:51:13.579403 12547 external/com_github_brpc_brpc/src/bvar/detail/sampler.cpp:192] bvar is busy at sampling for 2 seconds!\u001B[32m [repeated 149x across cluster]\u001B[0m\n",
      "Train Processing: :  90%|█████████ | 36/40 [00:39<00:04,  1.10s/it, {'multiclassaccuracy': 0.38806, 'multiclassprecision': 0.38806, 'val_multiclassaccuracy': 0.3076, 'val_multiclassprecision': 0.3076}]\n",
      "Train Processing: :   0%|          | 0/40 [00:00<?, ?it/s]"
     ]
    },
    {
     "name": "stdout",
     "output_type": "stream",
     "text": [
      "Epoch 20/20\n",
      "\u001B[36m(ActorPYUFedAvgW pid=71121)\u001B[0m {'train-loss': 1.5107758045196533, 'train_multiclassaccuracy': tensor(0.4428), 'train_multiclassprecision': tensor(0.4428), 'val_eval_multiclassaccuracy': tensor(0.4680), 'val_eval_multiclassprecision': tensor(0.4680)}\u001B[32m [repeated 10x across cluster]\u001B[0m\n"
     ]
    },
    {
     "name": "stderr",
     "output_type": "stream",
     "text": [
      "Train Processing: :  90%|█████████ | 36/40 [00:14<00:01,  2.79it/s]\u001B[36m(Actor_Masker pid=86862)\u001B[0m W1012 13:51:54.891589 15107 external/com_github_brpc_brpc/src/bvar/detail/sampler.cpp:192] bvar is busy at sampling for 2 seconds!\u001B[32m [repeated 197x across cluster]\u001B[0m\n",
      "\u001B[36m(ActorPYUFedAFK pid=88220)\u001B[0m W1012 13:52:06.422846 15363 external/com_github_brpc_brpc/src/bvar/detail/sampler.cpp:192] bvar is busy at sampling for 2 seconds!\u001B[32m [repeated 109x across cluster]\u001B[0m\n",
      "Train Processing: :  90%|█████████ | 36/40 [00:38<00:04,  1.08s/it, {'multiclassaccuracy': 0.39108, 'multiclassprecision': 0.39108, 'val_multiclassaccuracy': 0.30950004, 'val_multiclassprecision': 0.30950004}]\n"
     ]
    },
    {
     "name": "stdout",
     "output_type": "stream",
     "text": [
      "\u001B[36m(ActorPYUFedAvgW pid=71121)\u001B[0m {'train-loss': 1.5139881372451782, 'train_multiclassaccuracy': tensor(0.4476), 'train_multiclassprecision': tensor(0.4476), 'val_eval_multiclassaccuracy': tensor(0.4640), 'val_eval_multiclassprecision': tensor(0.4640)}\u001B[32m [repeated 10x across cluster]\u001B[0m\n",
      "\u001B[36m(ActorPYUFedAvgW pid=71798)\u001B[0m {'train-loss': 1.3098505735397339, 'train_multiclassaccuracy': tensor(0.3842), 'train_multiclassprecision': tensor(0.3842), 'val_eval_multiclassaccuracy': tensor(0.3680), 'val_eval_multiclassprecision': tensor(0.3680)}\n"
     ]
    }
   ],
   "execution_count": 13
  },
  {
   "cell_type": "markdown",
   "id": "bacd7d70-03bc-494e-b5ba-87bb2ae9b1d8",
   "metadata": {},
   "source": [
    "可以看到在每个客户端只有4类图像样本的情况下，使用FedPer个性化联邦策略训练的全局客户端平均精度优于FedAvg策略。"
   ]
  },
  {
   "cell_type": "code",
   "id": "50206fb2-b48e-49f9-a204-f69c5b7c2b1d",
   "metadata": {
    "ExecuteTime": {
     "end_time": "2024-10-12T05:52:24.107275Z",
     "start_time": "2024-10-12T05:52:23.850980Z"
    }
   },
   "source": [
    "from matplotlib import pyplot as plt\n",
    "\n",
    "# Draw accuracy values for training & validation\n",
    "plt.plot(history[\"global_history\"][\"multiclassaccuracy\"])\n",
    "plt.plot(history[\"global_history\"][\"val_multiclassaccuracy\"])\n",
    "plt.plot(history_[\"global_history\"][\"multiclassaccuracy\"])\n",
    "plt.plot(history_[\"global_history\"][\"val_multiclassaccuracy\"])\n",
    "plt.title(\"FedAFK vs FedAvg accuracy\")\n",
    "plt.ylabel(\"Accuracy\")\n",
    "plt.xlabel(\"Epoch\")\n",
    "plt.legend([\"FedAFK_T\", \"FedAFK_V\", \"FedAvg_T\", \"FedAvg_V\"], loc=\"upper left\")\n",
    "plt.show()"
   ],
   "outputs": [
    {
     "data": {
      "text/plain": [
       "<Figure size 640x480 with 1 Axes>"
      ],
      "image/png": "[encoded data removed]"
     },
     "metadata": {},
     "output_type": "display_data"
    }
   ],
   "execution_count": 14
  },
  {
   "cell_type": "code",
   "id": "318d1ff3-1daf-4336-beb8-c9632a8f56b3",
   "metadata": {},
   "source": [],
   "outputs": [],
   "execution_count": null
  }
 ],
 "metadata": {
  "kernelspec": {
   "display_name": "Python 3 (ipykernel)",
   "language": "python",
   "name": "python3"
  },
  "language_info": {
   "codemirror_mode": {
    "name": "ipython",
    "version": 3
   },
   "file_extension": ".py",
   "mimetype": "text/x-python",
   "name": "python",
   "nbconvert_exporter": "python",
   "pygments_lexer": "ipython3",
   "version": "3.8.18"
  },
  "pycharm": {
   "stem_cell": {
    "cell_type": "raw",
    "metadata": {
     "collapsed": false
    },
    "source": [
     "##%% md\n",
     " FedPer "
    ]
   }
  }
 },
 "nbformat": 4,
 "nbformat_minor": 5
}
